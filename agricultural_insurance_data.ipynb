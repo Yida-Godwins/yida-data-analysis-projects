{
 "cells": [
  {
   "cell_type": "markdown",
   "id": "a17d8c19",
   "metadata": {},
   "source": [
    "## Actuarial Analysis\n",
    "\n",
    "#### RAW ANALYSIS REPORT\n",
    "\n",
    "### Introduction\n",
    "\n",
    "> In these report, we are going to analyze the data for produce of 5 regions   \n",
    "for use by `ABC SuperFarmer`, an insurance cover that insures farmers against a pre-set historical benchmark,  \n",
    "in estimation of payouts for insurance claims.\n",
    "\n",
    "### Data description\n",
    "\n",
    "> The data is a spreadsheet from `ABC SuperFarmer`, consisting of columns: \n",
    "\n",
    "> * **Crop:** This column contains names of the insured crop \n",
    "> * **Block:** This column contains the interger codes of the 5 regions 1,2,3,4,5 insured by `ABC SuperFarmer`.\n",
    "> * **Wet Weight:** This column contains the weights of fresh farm harvests in Kgs\n",
    "> * **Dry Weight:** This column contains the weights of dried wet harvests\n",
    "> * **Box length:** This column contains the measurement of length of placement boxes\n",
    "> * **Box width:** This column contains the measurements of width of the placement boxes\n",
    "\n",
    "> We also have secondary tables for the data, `The Benchmark Table`\n",
    "\n",
    "|Block|Crop| Benchmark Yield(MT/Ha)| Sum Insured in millions$|\n",
    "|-----|----|---------|--|\n",
    "|1|Maize|3.4|7|\n",
    "|2|Rice|2.63|23|\n",
    "|3|Maize|3.84|17|\n",
    "|4|Rice|3|3|\n",
    "|5|Maize|1.5|40|\n",
    "\n",
    "\n",
    "## Code instruction:\n",
    "\n",
    "For reproducability of results, run code sequentially from top to bottom\n",
    "\n",
    "## Assumptions used\n",
    "\n",
    "> * Dry weight is 75% of wet weight in maize\n",
    "> * Dry weight is 65% of wet weight in rice\n",
    "> * dry weight cannot be greater than wet weight\n",
    "> * \n",
    "> * \n"
   ]
  },
  {
   "cell_type": "markdown",
   "id": "fcc4f346",
   "metadata": {},
   "source": [
    "We import the required libraries and load the data to start the data assessment."
   ]
  },
  {
   "cell_type": "code",
   "execution_count": 1,
   "id": "284a04df",
   "metadata": {},
   "outputs": [],
   "source": [
    "import pandas as pd\n",
    "import numpy as np"
   ]
  },
  {
   "cell_type": "markdown",
   "id": "bbaa3478",
   "metadata": {},
   "source": [
    "## Data Assessment"
   ]
  },
  {
   "cell_type": "code",
   "execution_count": 2,
   "id": "6b604dd9",
   "metadata": {},
   "outputs": [
    {
     "data": {
      "text/html": [
       "<div>\n",
       "<style scoped>\n",
       "    .dataframe tbody tr th:only-of-type {\n",
       "        vertical-align: middle;\n",
       "    }\n",
       "\n",
       "    .dataframe tbody tr th {\n",
       "        vertical-align: top;\n",
       "    }\n",
       "\n",
       "    .dataframe thead th {\n",
       "        text-align: right;\n",
       "    }\n",
       "</style>\n",
       "<table border=\"1\" class=\"dataframe\">\n",
       "  <thead>\n",
       "    <tr style=\"text-align: right;\">\n",
       "      <th></th>\n",
       "      <th>Crop</th>\n",
       "      <th>Block</th>\n",
       "      <th>Wet Weight</th>\n",
       "      <th>Dry Weight</th>\n",
       "      <th>Box Length</th>\n",
       "      <th>Box Width</th>\n",
       "    </tr>\n",
       "  </thead>\n",
       "  <tbody>\n",
       "    <tr>\n",
       "      <th>0</th>\n",
       "      <td>Maize</td>\n",
       "      <td>1</td>\n",
       "      <td>12.510</td>\n",
       "      <td>11.57</td>\n",
       "      <td>8</td>\n",
       "      <td>5</td>\n",
       "    </tr>\n",
       "    <tr>\n",
       "      <th>1</th>\n",
       "      <td>Maize</td>\n",
       "      <td>1</td>\n",
       "      <td>NaN</td>\n",
       "      <td>0</td>\n",
       "      <td>8</td>\n",
       "      <td>5</td>\n",
       "    </tr>\n",
       "    <tr>\n",
       "      <th>2</th>\n",
       "      <td>Maize</td>\n",
       "      <td>1</td>\n",
       "      <td>4.295</td>\n",
       "      <td>2.61</td>\n",
       "      <td>8</td>\n",
       "      <td>5</td>\n",
       "    </tr>\n",
       "    <tr>\n",
       "      <th>3</th>\n",
       "      <td>Maize</td>\n",
       "      <td>1</td>\n",
       "      <td>13.810</td>\n",
       "      <td>11.88</td>\n",
       "      <td>8</td>\n",
       "      <td>5</td>\n",
       "    </tr>\n",
       "    <tr>\n",
       "      <th>4</th>\n",
       "      <td>Maize</td>\n",
       "      <td>1</td>\n",
       "      <td>NaN</td>\n",
       "      <td>0</td>\n",
       "      <td>8</td>\n",
       "      <td>5</td>\n",
       "    </tr>\n",
       "  </tbody>\n",
       "</table>\n",
       "</div>"
      ],
      "text/plain": [
       "    Crop  Block  Wet Weight Dry Weight  Box Length  Box Width \n",
       "0  Maize      1      12.510      11.57           8           5\n",
       "1  Maize      1         NaN          0           8           5\n",
       "2  Maize      1       4.295       2.61           8           5\n",
       "3  Maize      1      13.810      11.88           8           5\n",
       "4  Maize      1         NaN          0           8           5"
      ]
     },
     "execution_count": 2,
     "metadata": {},
     "output_type": "execute_result"
    }
   ],
   "source": [
    "# We load insurance data to our notebook for assessment\n",
    "raw_actuarial_data = pd.read_csv('agricultural_insurance_actuarial_data.csv')\n",
    "# We display the first 5 rows\n",
    "raw_actuarial_data.head()"
   ]
  },
  {
   "cell_type": "code",
   "execution_count": 3,
   "id": "d5716147",
   "metadata": {},
   "outputs": [
    {
     "data": {
      "text/plain": [
       "(197, 6)"
      ]
     },
     "execution_count": 3,
     "metadata": {},
     "output_type": "execute_result"
    }
   ],
   "source": [
    "# We use code to display the dimensions of the data\n",
    "raw_actuarial_data.shape"
   ]
  },
  {
   "cell_type": "code",
   "execution_count": 4,
   "id": "98de0a53",
   "metadata": {},
   "outputs": [
    {
     "name": "stdout",
     "output_type": "stream",
     "text": [
      "<class 'pandas.core.frame.DataFrame'>\n",
      "RangeIndex: 197 entries, 0 to 196\n",
      "Data columns (total 6 columns):\n",
      " #   Column      Non-Null Count  Dtype  \n",
      "---  ------      --------------  -----  \n",
      " 0   Crop        197 non-null    object \n",
      " 1   Block       197 non-null    int64  \n",
      " 2   Wet Weight  182 non-null    float64\n",
      " 3   Dry Weight  190 non-null    object \n",
      " 4   Box Length  197 non-null    int64  \n",
      " 5   Box Width   197 non-null    int64  \n",
      "dtypes: float64(1), int64(3), object(2)\n",
      "memory usage: 9.4+ KB\n"
     ]
    }
   ],
   "source": [
    "# We use code to display the dataset information for assessment\n",
    "raw_actuarial_data.info()"
   ]
  },
  {
   "cell_type": "code",
   "execution_count": 5,
   "id": "c159df26",
   "metadata": {},
   "outputs": [
    {
     "data": {
      "text/plain": [
       "Crop            4\n",
       "Block           8\n",
       "Wet Weight    178\n",
       "Dry Weight    173\n",
       "Box Length      4\n",
       "Box Width       4\n",
       "dtype: int64"
      ]
     },
     "execution_count": 5,
     "metadata": {},
     "output_type": "execute_result"
    }
   ],
   "source": [
    "# We use code to display the unique values in the dataset for each column\n",
    "raw_actuarial_data.nunique()"
   ]
  },
  {
   "cell_type": "code",
   "execution_count": 6,
   "id": "cd0846f5",
   "metadata": {},
   "outputs": [
    {
     "data": {
      "text/plain": [
       "Index(['Crop', 'Block', 'Wet Weight', 'Dry Weight', 'Box Length',\n",
       "       'Box Width '],\n",
       "      dtype='object')"
      ]
     },
     "execution_count": 6,
     "metadata": {},
     "output_type": "execute_result"
    }
   ],
   "source": [
    "# We use code to inspect the column names and check is they are standard names\n",
    "raw_actuarial_data.columns"
   ]
  },
  {
   "cell_type": "code",
   "execution_count": 7,
   "id": "981595ec",
   "metadata": {},
   "outputs": [
    {
     "data": {
      "text/html": [
       "<style type=\"text/css\">\n",
       "#T_e8c84_row0_col0, #T_e8c84_row0_col1, #T_e8c84_row2_col0, #T_e8c84_row2_col1 {\n",
       "  background-color: orange;\n",
       "}\n",
       "#T_e8c84_row1_col0, #T_e8c84_row1_col1, #T_e8c84_row3_col0, #T_e8c84_row3_col1 {\n",
       "  color: green;\n",
       "}\n",
       "</style>\n",
       "<table id=\"T_e8c84\">\n",
       "  <thead>\n",
       "    <tr>\n",
       "      <th id=\"T_e8c84_level0_col0\" class=\"col_heading level0 col0\" >crop_name</th>\n",
       "      <th id=\"T_e8c84_level0_col1\" class=\"col_heading level0 col1\" >frequency</th>\n",
       "    </tr>\n",
       "  </thead>\n",
       "  <tbody>\n",
       "    <tr>\n",
       "      <td id=\"T_e8c84_row0_col0\" class=\"data row0 col0\" >Cotton</td>\n",
       "      <td id=\"T_e8c84_row0_col1\" class=\"data row0 col1\" >1</td>\n",
       "    </tr>\n",
       "    <tr>\n",
       "      <td id=\"T_e8c84_row1_col0\" class=\"data row1 col0\" >Maize</td>\n",
       "      <td id=\"T_e8c84_row1_col1\" class=\"data row1 col1\" >117</td>\n",
       "    </tr>\n",
       "    <tr>\n",
       "      <td id=\"T_e8c84_row2_col0\" class=\"data row2 col0\" >Potato</td>\n",
       "      <td id=\"T_e8c84_row2_col1\" class=\"data row2 col1\" >1</td>\n",
       "    </tr>\n",
       "    <tr>\n",
       "      <td id=\"T_e8c84_row3_col0\" class=\"data row3 col0\" >Rice</td>\n",
       "      <td id=\"T_e8c84_row3_col1\" class=\"data row3 col1\" >78</td>\n",
       "    </tr>\n",
       "  </tbody>\n",
       "</table>\n"
      ],
      "text/plain": [
       "<pandas.io.formats.style.Styler at 0x240536c4370>"
      ]
     },
     "execution_count": 7,
     "metadata": {},
     "output_type": "execute_result"
    }
   ],
   "source": [
    "# We use code to display the names of items in the crop column\n",
    "invalid_crops = {\n",
    "'crop_name':pd.DataFrame(raw_actuarial_data['Crop'].value_counts().sort_index()).index,\n",
    "'frequency':pd.DataFrame(raw_actuarial_data['Crop'].value_counts().sort_index()).Crop}\n",
    "invalid_crops = pd.DataFrame(invalid_crops)\n",
    "invalids = ['Cotton','Potato']\n",
    "highlight = np.where(invalid_crops.index.isin(invalids),\n",
    "                                  'background-color: orange',\n",
    "                                  'color: green')\n",
    "invalid_crops = invalid_crops.style.apply(lambda _: highlight)\n",
    "invalid_crops.hide(axis = 'index')"
   ]
  },
  {
   "cell_type": "code",
   "execution_count": 8,
   "id": "161c594d",
   "metadata": {},
   "outputs": [
    {
     "data": {
      "text/html": [
       "<style type=\"text/css\">\n",
       "#T_fdddd_row0_col0, #T_fdddd_row0_col1, #T_fdddd_row1_col0, #T_fdddd_row1_col1, #T_fdddd_row2_col0, #T_fdddd_row2_col1, #T_fdddd_row3_col0, #T_fdddd_row3_col1, #T_fdddd_row4_col0, #T_fdddd_row4_col1 {\n",
       "  color: green;\n",
       "}\n",
       "#T_fdddd_row5_col0, #T_fdddd_row5_col1, #T_fdddd_row6_col0, #T_fdddd_row6_col1, #T_fdddd_row7_col0, #T_fdddd_row7_col1 {\n",
       "  background-color: orange;\n",
       "}\n",
       "</style>\n",
       "<table id=\"T_fdddd\">\n",
       "  <thead>\n",
       "    <tr>\n",
       "      <th id=\"T_fdddd_level0_col0\" class=\"col_heading level0 col0\" >block</th>\n",
       "      <th id=\"T_fdddd_level0_col1\" class=\"col_heading level0 col1\" >frequency</th>\n",
       "    </tr>\n",
       "  </thead>\n",
       "  <tbody>\n",
       "    <tr>\n",
       "      <td id=\"T_fdddd_row0_col0\" class=\"data row0 col0\" >1</td>\n",
       "      <td id=\"T_fdddd_row0_col1\" class=\"data row0 col1\" >40</td>\n",
       "    </tr>\n",
       "    <tr>\n",
       "      <td id=\"T_fdddd_row1_col0\" class=\"data row1 col0\" >2</td>\n",
       "      <td id=\"T_fdddd_row1_col1\" class=\"data row1 col1\" >48</td>\n",
       "    </tr>\n",
       "    <tr>\n",
       "      <td id=\"T_fdddd_row2_col0\" class=\"data row2 col0\" >3</td>\n",
       "      <td id=\"T_fdddd_row2_col1\" class=\"data row2 col1\" >44</td>\n",
       "    </tr>\n",
       "    <tr>\n",
       "      <td id=\"T_fdddd_row3_col0\" class=\"data row3 col0\" >4</td>\n",
       "      <td id=\"T_fdddd_row3_col1\" class=\"data row3 col1\" >29</td>\n",
       "    </tr>\n",
       "    <tr>\n",
       "      <td id=\"T_fdddd_row4_col0\" class=\"data row4 col0\" >5</td>\n",
       "      <td id=\"T_fdddd_row4_col1\" class=\"data row4 col1\" >33</td>\n",
       "    </tr>\n",
       "    <tr>\n",
       "      <td id=\"T_fdddd_row5_col0\" class=\"data row5 col0\" >7</td>\n",
       "      <td id=\"T_fdddd_row5_col1\" class=\"data row5 col1\" >1</td>\n",
       "    </tr>\n",
       "    <tr>\n",
       "      <td id=\"T_fdddd_row6_col0\" class=\"data row6 col0\" >10</td>\n",
       "      <td id=\"T_fdddd_row6_col1\" class=\"data row6 col1\" >1</td>\n",
       "    </tr>\n",
       "    <tr>\n",
       "      <td id=\"T_fdddd_row7_col0\" class=\"data row7 col0\" >55</td>\n",
       "      <td id=\"T_fdddd_row7_col1\" class=\"data row7 col1\" >1</td>\n",
       "    </tr>\n",
       "  </tbody>\n",
       "</table>\n"
      ],
      "text/plain": [
       "<pandas.io.formats.style.Styler at 0x24054579fa0>"
      ]
     },
     "execution_count": 8,
     "metadata": {},
     "output_type": "execute_result"
    }
   ],
   "source": [
    "# We use code to display items values contained in the Block column against their frequency.\n",
    "block_data = {'block':pd.DataFrame(raw_actuarial_data['Block'].value_counts().sort_index()).index,\n",
    "              'frequency':pd.DataFrame(raw_actuarial_data['Block'].value_counts().sort_index()).Block}\n",
    "block_data = pd.DataFrame(block_data)\n",
    "block_data = block_data.reset_index()[['block','frequency']]\n",
    "\n",
    "#block_data.style.set_properties(**{'background-color': 'white',\n",
    "#                           'color': 'green'})\n",
    "invalids = [7,10,55]\n",
    "highlight = np.where(block_data['block'].isin(invalids),\n",
    "                                  'background-color: orange',\n",
    "                                  'color: green')\n",
    "block_data = block_data.style.apply(lambda _: highlight)\n",
    "block_data.hide(axis = 'index')"
   ]
  },
  {
   "cell_type": "markdown",
   "id": "dc463815",
   "metadata": {},
   "source": [
    "> * **Checking for invalid data**"
   ]
  },
  {
   "cell_type": "markdown",
   "id": "a9427492",
   "metadata": {},
   "source": [
    "## Data Assessment issues\n",
    "\n",
    "> * **Data Quality Issues**\n",
    "> * Q-1: The column names are not standard callable names for analysis, and are not desctiptive  \n",
    "enough of the data in the fields. Some contain spaces after names.\n",
    "> * Q-2: There are missing values in the wet weight column, and dry weight column\n",
    "> * Q-3: Incorrect data type in the field dry weight, it is a string format instead of number,  \n",
    "and there os an incorrect value of ` 40,000 ` that needs replacement.\n",
    "> * Q-4: There are incorrect values in the block section of the table, valid values should range from 1-5\n",
    "> * Q-5 there are invalid crops such as potatoes and cotton in the data, which should insure maize and rice\n"
   ]
  },
  {
   "cell_type": "markdown",
   "id": "03b5daf5",
   "metadata": {},
   "source": [
    "## Data Cleaning"
   ]
  },
  {
   "cell_type": "markdown",
   "id": "cbd12133",
   "metadata": {},
   "source": [
    "## Issue Q-1:\n",
    "\n",
    "> * Q-1: The column names are not standard callable names for analysis."
   ]
  },
  {
   "cell_type": "markdown",
   "id": "9c1dd9d9",
   "metadata": {},
   "source": [
    "### Define\n",
    "\n",
    "> * The column headings consist of spaces and interchanging cases which may not be the best for analysis.   \n",
    "The names are also less descriptive."
   ]
  },
  {
   "cell_type": "markdown",
   "id": "b1bc2386",
   "metadata": {},
   "source": [
    "## Code"
   ]
  },
  {
   "cell_type": "code",
   "execution_count": 9,
   "id": "c647e97a",
   "metadata": {},
   "outputs": [
    {
     "data": {
      "text/plain": [
       "Index(['Crop', 'Block', 'Wet Weight', 'Dry Weight', 'Box Length',\n",
       "       'Box Width '],\n",
       "      dtype='object')"
      ]
     },
     "execution_count": 9,
     "metadata": {},
     "output_type": "execute_result"
    }
   ],
   "source": [
    "# We use code to inspect the current column names\n",
    "raw_actuarial_data.columns"
   ]
  },
  {
   "cell_type": "code",
   "execution_count": 10,
   "id": "3ae76c04",
   "metadata": {},
   "outputs": [],
   "source": [
    "# We use code to rename the columns to have more descriptive names\n",
    "raw_actuarial_data.rename(columns = {'Crop':'crop_name', \n",
    "                                     'Block':'farmers_block',\n",
    "                                     'Wet Weight': 'crop_wet_weight',\n",
    "                                     'Dry Weight':'crop_dry_weight', \n",
    "                                     'Box Length':'box_length',\n",
    "                                     'Box Width ': 'box_width'}, inplace = True)"
   ]
  },
  {
   "cell_type": "markdown",
   "id": "e60b2b1c",
   "metadata": {},
   "source": [
    "## Test"
   ]
  },
  {
   "cell_type": "code",
   "execution_count": 11,
   "id": "90c11038",
   "metadata": {},
   "outputs": [
    {
     "data": {
      "text/html": [
       "<div>\n",
       "<style scoped>\n",
       "    .dataframe tbody tr th:only-of-type {\n",
       "        vertical-align: middle;\n",
       "    }\n",
       "\n",
       "    .dataframe tbody tr th {\n",
       "        vertical-align: top;\n",
       "    }\n",
       "\n",
       "    .dataframe thead th {\n",
       "        text-align: right;\n",
       "    }\n",
       "</style>\n",
       "<table border=\"1\" class=\"dataframe\">\n",
       "  <thead>\n",
       "    <tr style=\"text-align: right;\">\n",
       "      <th></th>\n",
       "      <th>crop_name</th>\n",
       "      <th>farmers_block</th>\n",
       "      <th>crop_wet_weight</th>\n",
       "      <th>crop_dry_weight</th>\n",
       "      <th>box_length</th>\n",
       "      <th>box_width</th>\n",
       "    </tr>\n",
       "  </thead>\n",
       "  <tbody>\n",
       "    <tr>\n",
       "      <th>0</th>\n",
       "      <td>Maize</td>\n",
       "      <td>1</td>\n",
       "      <td>12.51</td>\n",
       "      <td>11.57</td>\n",
       "      <td>8</td>\n",
       "      <td>5</td>\n",
       "    </tr>\n",
       "    <tr>\n",
       "      <th>1</th>\n",
       "      <td>Maize</td>\n",
       "      <td>1</td>\n",
       "      <td>NaN</td>\n",
       "      <td>0</td>\n",
       "      <td>8</td>\n",
       "      <td>5</td>\n",
       "    </tr>\n",
       "  </tbody>\n",
       "</table>\n",
       "</div>"
      ],
      "text/plain": [
       "  crop_name  farmers_block  crop_wet_weight crop_dry_weight  box_length  \\\n",
       "0     Maize              1            12.51           11.57           8   \n",
       "1     Maize              1              NaN               0           8   \n",
       "\n",
       "   box_width  \n",
       "0          5  \n",
       "1          5  "
      ]
     },
     "execution_count": 11,
     "metadata": {},
     "output_type": "execute_result"
    }
   ],
   "source": [
    "# We use code to test if the changes were made.\n",
    "raw_actuarial_data.head(2)"
   ]
  },
  {
   "cell_type": "markdown",
   "id": "036d6fa9",
   "metadata": {},
   "source": [
    "## Issue Q-3:\n",
    "\n",
    "> * Q-3: Incorrect data type in the field dry weight, it is a string format instead of number."
   ]
  },
  {
   "cell_type": "markdown",
   "id": "8c8a067b",
   "metadata": {},
   "source": [
    "## Define:\n",
    "\n",
    "> For Q-3 The dry weight data should be numerical, hence we need to convert it to a numeric format"
   ]
  },
  {
   "cell_type": "markdown",
   "id": "fe1c7a9e",
   "metadata": {},
   "source": [
    "## Code"
   ]
  },
  {
   "cell_type": "code",
   "execution_count": 12,
   "id": "bef1ebbe",
   "metadata": {},
   "outputs": [
    {
     "data": {
      "text/plain": [
       "' 40,000 '"
      ]
     },
     "execution_count": 12,
     "metadata": {},
     "output_type": "execute_result"
    }
   ],
   "source": [
    "# Use code to display the incorrect data that would hinder conversion of the column to numeric\n",
    "raw_actuarial_data['crop_dry_weight'][63]"
   ]
  },
  {
   "cell_type": "code",
   "execution_count": 13,
   "id": "6ffac5d2",
   "metadata": {},
   "outputs": [],
   "source": [
    "# We use code to replace the value 63 in crop_dry_weight\n",
    "raw_actuarial_data.loc[63,'crop_dry_weight'] = 40000"
   ]
  },
  {
   "cell_type": "code",
   "execution_count": 14,
   "id": "1563cf84",
   "metadata": {},
   "outputs": [],
   "source": [
    "# We now change the dry weights from string to numeric \n",
    "#to allow arithmetic operations on the fields\n",
    "raw_actuarial_data['crop_dry_weight'] = pd.to_numeric(raw_actuarial_data['crop_dry_weight'])"
   ]
  },
  {
   "cell_type": "markdown",
   "id": "fddc022b",
   "metadata": {},
   "source": [
    "## Test"
   ]
  },
  {
   "cell_type": "code",
   "execution_count": 15,
   "id": "a4ddf509",
   "metadata": {},
   "outputs": [
    {
     "name": "stdout",
     "output_type": "stream",
     "text": [
      "<class 'pandas.core.frame.DataFrame'>\n",
      "RangeIndex: 197 entries, 0 to 196\n",
      "Data columns (total 6 columns):\n",
      " #   Column           Non-Null Count  Dtype  \n",
      "---  ------           --------------  -----  \n",
      " 0   crop_name        197 non-null    object \n",
      " 1   farmers_block    197 non-null    int64  \n",
      " 2   crop_wet_weight  182 non-null    float64\n",
      " 3   crop_dry_weight  190 non-null    float64\n",
      " 4   box_length       197 non-null    int64  \n",
      " 5   box_width        197 non-null    int64  \n",
      "dtypes: float64(2), int64(3), object(1)\n",
      "memory usage: 9.4+ KB\n"
     ]
    }
   ],
   "source": [
    "# We use code to confirm that the dry weights have been converted to numeric datatypes.\n",
    "raw_actuarial_data.info()"
   ]
  },
  {
   "cell_type": "markdown",
   "id": "a148b4eb",
   "metadata": {},
   "source": [
    "## Issue Q-4:\n",
    "\n",
    ">  * Q-4: There are incorrect values in the block section of the table, valid values should range from 1-5"
   ]
  },
  {
   "cell_type": "markdown",
   "id": "7547c4f6",
   "metadata": {},
   "source": [
    "## Define:\n",
    "\n",
    "> For Q-4 we are to drop incorrect values in block field."
   ]
  },
  {
   "cell_type": "markdown",
   "id": "09311750",
   "metadata": {},
   "source": [
    "## Code:"
   ]
  },
  {
   "cell_type": "code",
   "execution_count": 16,
   "id": "7830eaab",
   "metadata": {},
   "outputs": [
    {
     "data": {
      "text/html": [
       "<style type=\"text/css\">\n",
       "#T_4b786_row0_col0, #T_4b786_row0_col1, #T_4b786_row1_col0, #T_4b786_row1_col1, #T_4b786_row2_col0, #T_4b786_row2_col1, #T_4b786_row3_col0, #T_4b786_row3_col1, #T_4b786_row4_col0, #T_4b786_row4_col1 {\n",
       "  color: green;\n",
       "}\n",
       "#T_4b786_row5_col0, #T_4b786_row5_col1, #T_4b786_row6_col0, #T_4b786_row6_col1, #T_4b786_row7_col0, #T_4b786_row7_col1 {\n",
       "  background-color: orange;\n",
       "}\n",
       "</style>\n",
       "<table id=\"T_4b786\">\n",
       "  <thead>\n",
       "    <tr>\n",
       "      <th id=\"T_4b786_level0_col0\" class=\"col_heading level0 col0\" >farmers_block</th>\n",
       "      <th id=\"T_4b786_level0_col1\" class=\"col_heading level0 col1\" >frequency</th>\n",
       "    </tr>\n",
       "  </thead>\n",
       "  <tbody>\n",
       "    <tr>\n",
       "      <td id=\"T_4b786_row0_col0\" class=\"data row0 col0\" >1</td>\n",
       "      <td id=\"T_4b786_row0_col1\" class=\"data row0 col1\" >40</td>\n",
       "    </tr>\n",
       "    <tr>\n",
       "      <td id=\"T_4b786_row1_col0\" class=\"data row1 col0\" >2</td>\n",
       "      <td id=\"T_4b786_row1_col1\" class=\"data row1 col1\" >48</td>\n",
       "    </tr>\n",
       "    <tr>\n",
       "      <td id=\"T_4b786_row2_col0\" class=\"data row2 col0\" >3</td>\n",
       "      <td id=\"T_4b786_row2_col1\" class=\"data row2 col1\" >44</td>\n",
       "    </tr>\n",
       "    <tr>\n",
       "      <td id=\"T_4b786_row3_col0\" class=\"data row3 col0\" >4</td>\n",
       "      <td id=\"T_4b786_row3_col1\" class=\"data row3 col1\" >29</td>\n",
       "    </tr>\n",
       "    <tr>\n",
       "      <td id=\"T_4b786_row4_col0\" class=\"data row4 col0\" >5</td>\n",
       "      <td id=\"T_4b786_row4_col1\" class=\"data row4 col1\" >33</td>\n",
       "    </tr>\n",
       "    <tr>\n",
       "      <td id=\"T_4b786_row5_col0\" class=\"data row5 col0\" >7</td>\n",
       "      <td id=\"T_4b786_row5_col1\" class=\"data row5 col1\" >1</td>\n",
       "    </tr>\n",
       "    <tr>\n",
       "      <td id=\"T_4b786_row6_col0\" class=\"data row6 col0\" >10</td>\n",
       "      <td id=\"T_4b786_row6_col1\" class=\"data row6 col1\" >1</td>\n",
       "    </tr>\n",
       "    <tr>\n",
       "      <td id=\"T_4b786_row7_col0\" class=\"data row7 col0\" >55</td>\n",
       "      <td id=\"T_4b786_row7_col1\" class=\"data row7 col1\" >1</td>\n",
       "    </tr>\n",
       "  </tbody>\n",
       "</table>\n"
      ],
      "text/plain": [
       "<pandas.io.formats.style.Styler at 0x240512cda60>"
      ]
     },
     "execution_count": 16,
     "metadata": {},
     "output_type": "execute_result"
    }
   ],
   "source": [
    "# We use code to display items values contained in the Block column against their frequency.\n",
    "block_data = pd.DataFrame(raw_actuarial_data['farmers_block'].value_counts().sort_index())\n",
    "block_data = {\n",
    "'farmers_block': block_data.index,\n",
    "'frequency':block_data.farmers_block}\n",
    "block_data = pd.DataFrame(block_data)\n",
    "block_data = block_data.reset_index()[['farmers_block','frequency']]\n",
    "\n",
    "#block_data.style.set_properties(**{'background-color': 'white',\n",
    "#                           'color': 'green'})\n",
    "invalids = [7,10,55]\n",
    "highlight = np.where(block_data['farmers_block'].isin(invalids),\n",
    "                                  'background-color: orange',\n",
    "                                  'color: green')\n",
    "block_data = block_data.style.apply(lambda _: highlight)\n",
    "block_data.hide(axis = 'index')"
   ]
  },
  {
   "cell_type": "code",
   "execution_count": 17,
   "id": "119a75c4",
   "metadata": {},
   "outputs": [],
   "source": [
    "# We use code to filter out the incorrect data values\n",
    "raw_actuarial_data = raw_actuarial_data[raw_actuarial_data['farmers_block'] <= 5]"
   ]
  },
  {
   "cell_type": "markdown",
   "id": "8fe89d28",
   "metadata": {},
   "source": [
    "## Test"
   ]
  },
  {
   "cell_type": "code",
   "execution_count": 18,
   "id": "781a365a",
   "metadata": {},
   "outputs": [
    {
     "data": {
      "text/html": [
       "<style type=\"text/css\">\n",
       "#T_1dfab_row0_col0, #T_1dfab_row0_col1, #T_1dfab_row1_col0, #T_1dfab_row1_col1, #T_1dfab_row2_col0, #T_1dfab_row2_col1, #T_1dfab_row3_col0, #T_1dfab_row3_col1, #T_1dfab_row4_col0, #T_1dfab_row4_col1 {\n",
       "  color: green;\n",
       "}\n",
       "</style>\n",
       "<table id=\"T_1dfab\">\n",
       "  <thead>\n",
       "    <tr>\n",
       "      <th id=\"T_1dfab_level0_col0\" class=\"col_heading level0 col0\" >farmers_block</th>\n",
       "      <th id=\"T_1dfab_level0_col1\" class=\"col_heading level0 col1\" >frequency</th>\n",
       "    </tr>\n",
       "  </thead>\n",
       "  <tbody>\n",
       "    <tr>\n",
       "      <td id=\"T_1dfab_row0_col0\" class=\"data row0 col0\" >1</td>\n",
       "      <td id=\"T_1dfab_row0_col1\" class=\"data row0 col1\" >40</td>\n",
       "    </tr>\n",
       "    <tr>\n",
       "      <td id=\"T_1dfab_row1_col0\" class=\"data row1 col0\" >2</td>\n",
       "      <td id=\"T_1dfab_row1_col1\" class=\"data row1 col1\" >48</td>\n",
       "    </tr>\n",
       "    <tr>\n",
       "      <td id=\"T_1dfab_row2_col0\" class=\"data row2 col0\" >3</td>\n",
       "      <td id=\"T_1dfab_row2_col1\" class=\"data row2 col1\" >44</td>\n",
       "    </tr>\n",
       "    <tr>\n",
       "      <td id=\"T_1dfab_row3_col0\" class=\"data row3 col0\" >4</td>\n",
       "      <td id=\"T_1dfab_row3_col1\" class=\"data row3 col1\" >29</td>\n",
       "    </tr>\n",
       "    <tr>\n",
       "      <td id=\"T_1dfab_row4_col0\" class=\"data row4 col0\" >5</td>\n",
       "      <td id=\"T_1dfab_row4_col1\" class=\"data row4 col1\" >33</td>\n",
       "    </tr>\n",
       "  </tbody>\n",
       "</table>\n"
      ],
      "text/plain": [
       "<pandas.io.formats.style.Styler at 0x240536c4e20>"
      ]
     },
     "execution_count": 18,
     "metadata": {},
     "output_type": "execute_result"
    }
   ],
   "source": [
    "# We use code to display items values contained in the Block column against their frequency.\n",
    "block_data = pd.DataFrame(raw_actuarial_data['farmers_block'].value_counts().sort_index())\n",
    "block_data = {\n",
    "'farmers_block':block_data.index,\n",
    "'frequency':block_data.farmers_block}\n",
    "block_data = pd.DataFrame(block_data)\n",
    "block_data = block_data.reset_index()[['farmers_block','frequency']]\n",
    "\n",
    "#block_data.style.set_properties(**{'background-color': 'white',\n",
    "#                           'color': 'green'})\n",
    "invalids = [7,10,55]\n",
    "highlight = np.where(block_data['farmers_block'].isin(invalids),\n",
    "                                  'background-color: orange',\n",
    "                                  'color: green')\n",
    "block_data = block_data.style.apply(lambda _: highlight)\n",
    "block_data.hide(axis = 'index')"
   ]
  },
  {
   "cell_type": "markdown",
   "id": "76cd873a",
   "metadata": {},
   "source": [
    "## Issue Q-5:\n",
    "\n",
    "> * Q-5 there are invalid crops such as potatoes and cotton in the data, which should insure maize and rice"
   ]
  },
  {
   "cell_type": "markdown",
   "id": "1adee3e5",
   "metadata": {},
   "source": [
    "## Define:\n",
    "\n",
    "> * For Q-5 there were invalid crops which are not part of the insured crops and needed to be removed."
   ]
  },
  {
   "cell_type": "markdown",
   "id": "e3a88598",
   "metadata": {},
   "source": [
    "## Code"
   ]
  },
  {
   "cell_type": "code",
   "execution_count": 19,
   "id": "de18b42a",
   "metadata": {},
   "outputs": [
    {
     "data": {
      "text/html": [
       "<style type=\"text/css\">\n",
       "#T_550b7_row0_col0, #T_550b7_row0_col1, #T_550b7_row2_col0, #T_550b7_row2_col1 {\n",
       "  background-color: orange;\n",
       "}\n",
       "#T_550b7_row1_col0, #T_550b7_row1_col1, #T_550b7_row3_col0, #T_550b7_row3_col1 {\n",
       "  color: green;\n",
       "}\n",
       "</style>\n",
       "<table id=\"T_550b7\">\n",
       "  <thead>\n",
       "    <tr>\n",
       "      <th id=\"T_550b7_level0_col0\" class=\"col_heading level0 col0\" >crop_name</th>\n",
       "      <th id=\"T_550b7_level0_col1\" class=\"col_heading level0 col1\" >frequency</th>\n",
       "    </tr>\n",
       "  </thead>\n",
       "  <tbody>\n",
       "    <tr>\n",
       "      <td id=\"T_550b7_row0_col0\" class=\"data row0 col0\" >Cotton</td>\n",
       "      <td id=\"T_550b7_row0_col1\" class=\"data row0 col1\" >1</td>\n",
       "    </tr>\n",
       "    <tr>\n",
       "      <td id=\"T_550b7_row1_col0\" class=\"data row1 col0\" >Maize</td>\n",
       "      <td id=\"T_550b7_row1_col1\" class=\"data row1 col1\" >116</td>\n",
       "    </tr>\n",
       "    <tr>\n",
       "      <td id=\"T_550b7_row2_col0\" class=\"data row2 col0\" >Potato</td>\n",
       "      <td id=\"T_550b7_row2_col1\" class=\"data row2 col1\" >1</td>\n",
       "    </tr>\n",
       "    <tr>\n",
       "      <td id=\"T_550b7_row3_col0\" class=\"data row3 col0\" >Rice</td>\n",
       "      <td id=\"T_550b7_row3_col1\" class=\"data row3 col1\" >76</td>\n",
       "    </tr>\n",
       "  </tbody>\n",
       "</table>\n"
      ],
      "text/plain": [
       "<pandas.io.formats.style.Styler at 0x2405459ae80>"
      ]
     },
     "execution_count": 19,
     "metadata": {},
     "output_type": "execute_result"
    }
   ],
   "source": [
    "# We use code to display the names of items in the crop column\n",
    "invalid_crops = {\n",
    "'crop_name':pd.DataFrame(raw_actuarial_data['crop_name'].value_counts().sort_index()).index,\n",
    "'frequency':pd.DataFrame(raw_actuarial_data['crop_name'].value_counts().sort_index()).crop_name}\n",
    "invalid_crops = pd.DataFrame(invalid_crops)\n",
    "invalids = ['Cotton','Potato']\n",
    "highlight = np.where(invalid_crops.index.isin(invalids),\n",
    "                                  'background-color: orange',\n",
    "                                  'color: green')\n",
    "invalid_crops = invalid_crops.style.apply(lambda _: highlight)\n",
    "invalid_crops.hide(axis = 'index')"
   ]
  },
  {
   "cell_type": "code",
   "execution_count": 20,
   "id": "2e408819",
   "metadata": {},
   "outputs": [],
   "source": [
    "# We use code to filter out cotton data\n",
    "raw_actuarial_data = raw_actuarial_data[(raw_actuarial_data['crop_name'] != 'Cotton')]\n",
    "# We use code to filter out Potato data\n",
    "raw_actuarial_data = raw_actuarial_data[(raw_actuarial_data['crop_name'] != 'Potato')]"
   ]
  },
  {
   "cell_type": "markdown",
   "id": "5f9f76c4",
   "metadata": {},
   "source": [
    "## Test"
   ]
  },
  {
   "cell_type": "code",
   "execution_count": 21,
   "id": "0540ef1e",
   "metadata": {},
   "outputs": [
    {
     "data": {
      "text/html": [
       "<style type=\"text/css\">\n",
       "#T_4f8b3_row0_col0, #T_4f8b3_row0_col1, #T_4f8b3_row1_col0, #T_4f8b3_row1_col1 {\n",
       "  color: green;\n",
       "}\n",
       "</style>\n",
       "<table id=\"T_4f8b3\">\n",
       "  <thead>\n",
       "    <tr>\n",
       "      <th id=\"T_4f8b3_level0_col0\" class=\"col_heading level0 col0\" >crop_name</th>\n",
       "      <th id=\"T_4f8b3_level0_col1\" class=\"col_heading level0 col1\" >frequency</th>\n",
       "    </tr>\n",
       "  </thead>\n",
       "  <tbody>\n",
       "    <tr>\n",
       "      <td id=\"T_4f8b3_row0_col0\" class=\"data row0 col0\" >Maize</td>\n",
       "      <td id=\"T_4f8b3_row0_col1\" class=\"data row0 col1\" >116</td>\n",
       "    </tr>\n",
       "    <tr>\n",
       "      <td id=\"T_4f8b3_row1_col0\" class=\"data row1 col0\" >Rice</td>\n",
       "      <td id=\"T_4f8b3_row1_col1\" class=\"data row1 col1\" >76</td>\n",
       "    </tr>\n",
       "  </tbody>\n",
       "</table>\n"
      ],
      "text/plain": [
       "<pandas.io.formats.style.Styler at 0x2405459aa30>"
      ]
     },
     "execution_count": 21,
     "metadata": {},
     "output_type": "execute_result"
    }
   ],
   "source": [
    "# We use code to display the names of items in the crop column\n",
    "invalid_crops = {\n",
    "'crop_name':pd.DataFrame(raw_actuarial_data['crop_name'].value_counts().sort_index()).index,\n",
    "'frequency':pd.DataFrame(raw_actuarial_data['crop_name'].value_counts().sort_index()).crop_name}\n",
    "invalid_crops = pd.DataFrame(invalid_crops)\n",
    "invalids = ['Cotton','Potato']\n",
    "highlight = np.where(invalid_crops.index.isin(invalids),\n",
    "                                  'background-color: orange',\n",
    "                                  'color: green')\n",
    "invalid_crops = invalid_crops.style.apply(lambda _: highlight)\n",
    "invalid_crops.hide(axis = 'index')"
   ]
  },
  {
   "cell_type": "markdown",
   "id": "89839d36",
   "metadata": {},
   "source": [
    "## Issue Q-2:\n",
    "\n",
    "> * Q-2: There are missing values in the wet weight column, and dry weight column"
   ]
  },
  {
   "cell_type": "markdown",
   "id": "0024e90a",
   "metadata": {},
   "source": [
    "## Define: \n",
    "\n",
    "> * We investigate missing values in the columns wet weight and dry weight"
   ]
  },
  {
   "cell_type": "markdown",
   "id": "e7425457",
   "metadata": {},
   "source": [
    "## Code"
   ]
  },
  {
   "cell_type": "code",
   "execution_count": 22,
   "id": "400db887",
   "metadata": {},
   "outputs": [
    {
     "data": {
      "text/plain": [
       "15"
      ]
     },
     "execution_count": 22,
     "metadata": {},
     "output_type": "execute_result"
    }
   ],
   "source": [
    "#count missing values\n",
    "raw_actuarial_data.crop_wet_weight.isna().sum()"
   ]
  },
  {
   "cell_type": "markdown",
   "id": "53f2b7a5",
   "metadata": {},
   "source": [
    "There are 15 missing values in wet weight"
   ]
  },
  {
   "cell_type": "code",
   "execution_count": 23,
   "id": "0d445c95",
   "metadata": {},
   "outputs": [
    {
     "data": {
      "text/plain": [
       "7"
      ]
     },
     "execution_count": 23,
     "metadata": {},
     "output_type": "execute_result"
    }
   ],
   "source": [
    "#count missing values\n",
    "raw_actuarial_data.crop_dry_weight.isna().sum()"
   ]
  },
  {
   "cell_type": "markdown",
   "id": "79df72f7",
   "metadata": {},
   "source": [
    "> * there are 7 values missing for dry weight which need a 75% conversion for maize and 65% conversion for rice"
   ]
  },
  {
   "cell_type": "code",
   "execution_count": 24,
   "id": "a8b335a0",
   "metadata": {},
   "outputs": [
    {
     "data": {
      "text/html": [
       "<div>\n",
       "<style scoped>\n",
       "    .dataframe tbody tr th:only-of-type {\n",
       "        vertical-align: middle;\n",
       "    }\n",
       "\n",
       "    .dataframe tbody tr th {\n",
       "        vertical-align: top;\n",
       "    }\n",
       "\n",
       "    .dataframe thead th {\n",
       "        text-align: right;\n",
       "    }\n",
       "</style>\n",
       "<table border=\"1\" class=\"dataframe\">\n",
       "  <thead>\n",
       "    <tr style=\"text-align: right;\">\n",
       "      <th></th>\n",
       "      <th>crop_name</th>\n",
       "      <th>farmers_block</th>\n",
       "      <th>crop_wet_weight</th>\n",
       "      <th>crop_dry_weight</th>\n",
       "      <th>box_length</th>\n",
       "      <th>box_width</th>\n",
       "    </tr>\n",
       "  </thead>\n",
       "  <tbody>\n",
       "    <tr>\n",
       "      <th>1</th>\n",
       "      <td>Maize</td>\n",
       "      <td>1</td>\n",
       "      <td>NaN</td>\n",
       "      <td>0.0</td>\n",
       "      <td>8</td>\n",
       "      <td>5</td>\n",
       "    </tr>\n",
       "    <tr>\n",
       "      <th>4</th>\n",
       "      <td>Maize</td>\n",
       "      <td>1</td>\n",
       "      <td>NaN</td>\n",
       "      <td>0.0</td>\n",
       "      <td>8</td>\n",
       "      <td>5</td>\n",
       "    </tr>\n",
       "    <tr>\n",
       "      <th>6</th>\n",
       "      <td>Maize</td>\n",
       "      <td>1</td>\n",
       "      <td>NaN</td>\n",
       "      <td>0.0</td>\n",
       "      <td>8</td>\n",
       "      <td>5</td>\n",
       "    </tr>\n",
       "    <tr>\n",
       "      <th>9</th>\n",
       "      <td>Maize</td>\n",
       "      <td>1</td>\n",
       "      <td>NaN</td>\n",
       "      <td>0.0</td>\n",
       "      <td>8</td>\n",
       "      <td>5</td>\n",
       "    </tr>\n",
       "    <tr>\n",
       "      <th>10</th>\n",
       "      <td>Maize</td>\n",
       "      <td>1</td>\n",
       "      <td>NaN</td>\n",
       "      <td>0.0</td>\n",
       "      <td>8</td>\n",
       "      <td>5</td>\n",
       "    </tr>\n",
       "    <tr>\n",
       "      <th>16</th>\n",
       "      <td>Maize</td>\n",
       "      <td>1</td>\n",
       "      <td>NaN</td>\n",
       "      <td>0.0</td>\n",
       "      <td>8</td>\n",
       "      <td>5</td>\n",
       "    </tr>\n",
       "    <tr>\n",
       "      <th>17</th>\n",
       "      <td>Maize</td>\n",
       "      <td>1</td>\n",
       "      <td>NaN</td>\n",
       "      <td>0.0</td>\n",
       "      <td>8</td>\n",
       "      <td>5</td>\n",
       "    </tr>\n",
       "    <tr>\n",
       "      <th>20</th>\n",
       "      <td>Maize</td>\n",
       "      <td>1</td>\n",
       "      <td>NaN</td>\n",
       "      <td>0.0</td>\n",
       "      <td>8</td>\n",
       "      <td>5</td>\n",
       "    </tr>\n",
       "    <tr>\n",
       "      <th>28</th>\n",
       "      <td>Maize</td>\n",
       "      <td>1</td>\n",
       "      <td>NaN</td>\n",
       "      <td>0.0</td>\n",
       "      <td>8</td>\n",
       "      <td>5</td>\n",
       "    </tr>\n",
       "    <tr>\n",
       "      <th>30</th>\n",
       "      <td>Maize</td>\n",
       "      <td>1</td>\n",
       "      <td>NaN</td>\n",
       "      <td>0.0</td>\n",
       "      <td>8</td>\n",
       "      <td>5</td>\n",
       "    </tr>\n",
       "    <tr>\n",
       "      <th>31</th>\n",
       "      <td>Maize</td>\n",
       "      <td>1</td>\n",
       "      <td>NaN</td>\n",
       "      <td>0.0</td>\n",
       "      <td>8</td>\n",
       "      <td>5</td>\n",
       "    </tr>\n",
       "    <tr>\n",
       "      <th>32</th>\n",
       "      <td>Maize</td>\n",
       "      <td>1</td>\n",
       "      <td>NaN</td>\n",
       "      <td>0.0</td>\n",
       "      <td>8</td>\n",
       "      <td>5</td>\n",
       "    </tr>\n",
       "    <tr>\n",
       "      <th>37</th>\n",
       "      <td>Maize</td>\n",
       "      <td>1</td>\n",
       "      <td>NaN</td>\n",
       "      <td>0.0</td>\n",
       "      <td>8</td>\n",
       "      <td>5</td>\n",
       "    </tr>\n",
       "    <tr>\n",
       "      <th>38</th>\n",
       "      <td>Maize</td>\n",
       "      <td>1</td>\n",
       "      <td>NaN</td>\n",
       "      <td>0.0</td>\n",
       "      <td>8</td>\n",
       "      <td>5</td>\n",
       "    </tr>\n",
       "    <tr>\n",
       "      <th>39</th>\n",
       "      <td>Maize</td>\n",
       "      <td>1</td>\n",
       "      <td>NaN</td>\n",
       "      <td>0.0</td>\n",
       "      <td>8</td>\n",
       "      <td>5</td>\n",
       "    </tr>\n",
       "  </tbody>\n",
       "</table>\n",
       "</div>"
      ],
      "text/plain": [
       "   crop_name  farmers_block  crop_wet_weight  crop_dry_weight  box_length  \\\n",
       "1      Maize              1              NaN              0.0           8   \n",
       "4      Maize              1              NaN              0.0           8   \n",
       "6      Maize              1              NaN              0.0           8   \n",
       "9      Maize              1              NaN              0.0           8   \n",
       "10     Maize              1              NaN              0.0           8   \n",
       "16     Maize              1              NaN              0.0           8   \n",
       "17     Maize              1              NaN              0.0           8   \n",
       "20     Maize              1              NaN              0.0           8   \n",
       "28     Maize              1              NaN              0.0           8   \n",
       "30     Maize              1              NaN              0.0           8   \n",
       "31     Maize              1              NaN              0.0           8   \n",
       "32     Maize              1              NaN              0.0           8   \n",
       "37     Maize              1              NaN              0.0           8   \n",
       "38     Maize              1              NaN              0.0           8   \n",
       "39     Maize              1              NaN              0.0           8   \n",
       "\n",
       "    box_width  \n",
       "1           5  \n",
       "4           5  \n",
       "6           5  \n",
       "9           5  \n",
       "10          5  \n",
       "16          5  \n",
       "17          5  \n",
       "20          5  \n",
       "28          5  \n",
       "30          5  \n",
       "31          5  \n",
       "32          5  \n",
       "37          5  \n",
       "38          5  \n",
       "39          5  "
      ]
     },
     "execution_count": 24,
     "metadata": {},
     "output_type": "execute_result"
    }
   ],
   "source": [
    "#view missing values in wet weight\n",
    "raw_actuarial_data.query('crop_wet_weight.isna()', engine = 'python')"
   ]
  },
  {
   "cell_type": "markdown",
   "id": "d371e73f",
   "metadata": {},
   "source": [
    "> * Crops with missing wet weight have 0 dry weight too. These will be filled with 0   \n",
    "since wet weight cannot exceede dry weight."
   ]
  },
  {
   "cell_type": "code",
   "execution_count": 25,
   "id": "88bcdd4b",
   "metadata": {},
   "outputs": [],
   "source": [
    "# We use code to fill the missing values with 0 where there \n",
    "#is missing values for wet weight and the dry weight is 0\n",
    "raw_actuarial_data.crop_wet_weight.fillna(0,inplace = True)"
   ]
  },
  {
   "cell_type": "code",
   "execution_count": 26,
   "id": "6092dd8b",
   "metadata": {},
   "outputs": [
    {
     "data": {
      "text/html": [
       "<div>\n",
       "<style scoped>\n",
       "    .dataframe tbody tr th:only-of-type {\n",
       "        vertical-align: middle;\n",
       "    }\n",
       "\n",
       "    .dataframe tbody tr th {\n",
       "        vertical-align: top;\n",
       "    }\n",
       "\n",
       "    .dataframe thead th {\n",
       "        text-align: right;\n",
       "    }\n",
       "</style>\n",
       "<table border=\"1\" class=\"dataframe\">\n",
       "  <thead>\n",
       "    <tr style=\"text-align: right;\">\n",
       "      <th></th>\n",
       "      <th>crop_name</th>\n",
       "      <th>farmers_block</th>\n",
       "      <th>crop_wet_weight</th>\n",
       "      <th>crop_dry_weight</th>\n",
       "      <th>box_length</th>\n",
       "      <th>box_width</th>\n",
       "    </tr>\n",
       "  </thead>\n",
       "  <tbody>\n",
       "    <tr>\n",
       "      <th>72</th>\n",
       "      <td>Rice</td>\n",
       "      <td>2</td>\n",
       "      <td>3.360</td>\n",
       "      <td>NaN</td>\n",
       "      <td>8</td>\n",
       "      <td>5</td>\n",
       "    </tr>\n",
       "    <tr>\n",
       "      <th>85</th>\n",
       "      <td>Rice</td>\n",
       "      <td>2</td>\n",
       "      <td>10.760</td>\n",
       "      <td>NaN</td>\n",
       "      <td>8</td>\n",
       "      <td>5</td>\n",
       "    </tr>\n",
       "    <tr>\n",
       "      <th>87</th>\n",
       "      <td>Rice</td>\n",
       "      <td>2</td>\n",
       "      <td>2.540</td>\n",
       "      <td>NaN</td>\n",
       "      <td>8</td>\n",
       "      <td>5</td>\n",
       "    </tr>\n",
       "    <tr>\n",
       "      <th>95</th>\n",
       "      <td>Maize</td>\n",
       "      <td>3</td>\n",
       "      <td>22.020</td>\n",
       "      <td>NaN</td>\n",
       "      <td>8</td>\n",
       "      <td>5</td>\n",
       "    </tr>\n",
       "    <tr>\n",
       "      <th>112</th>\n",
       "      <td>Maize</td>\n",
       "      <td>3</td>\n",
       "      <td>4.385</td>\n",
       "      <td>NaN</td>\n",
       "      <td>8</td>\n",
       "      <td>5</td>\n",
       "    </tr>\n",
       "    <tr>\n",
       "      <th>125</th>\n",
       "      <td>Maize</td>\n",
       "      <td>3</td>\n",
       "      <td>2.895</td>\n",
       "      <td>NaN</td>\n",
       "      <td>8</td>\n",
       "      <td>5</td>\n",
       "    </tr>\n",
       "    <tr>\n",
       "      <th>133</th>\n",
       "      <td>Maize</td>\n",
       "      <td>3</td>\n",
       "      <td>9.700</td>\n",
       "      <td>NaN</td>\n",
       "      <td>8</td>\n",
       "      <td>5</td>\n",
       "    </tr>\n",
       "  </tbody>\n",
       "</table>\n",
       "</div>"
      ],
      "text/plain": [
       "    crop_name  farmers_block  crop_wet_weight  crop_dry_weight  box_length  \\\n",
       "72       Rice              2            3.360              NaN           8   \n",
       "85       Rice              2           10.760              NaN           8   \n",
       "87       Rice              2            2.540              NaN           8   \n",
       "95      Maize              3           22.020              NaN           8   \n",
       "112     Maize              3            4.385              NaN           8   \n",
       "125     Maize              3            2.895              NaN           8   \n",
       "133     Maize              3            9.700              NaN           8   \n",
       "\n",
       "     box_width  \n",
       "72           5  \n",
       "85           5  \n",
       "87           5  \n",
       "95           5  \n",
       "112          5  \n",
       "125          5  \n",
       "133          5  "
      ]
     },
     "execution_count": 26,
     "metadata": {},
     "output_type": "execute_result"
    }
   ],
   "source": [
    "# We use code to view the missing dry weights in the data\n",
    "raw_actuarial_data.query('crop_dry_weight.isna()', engine = 'python')"
   ]
  },
  {
   "cell_type": "markdown",
   "id": "7b3bc113",
   "metadata": {},
   "source": [
    "> * Crops with missing dry weight have non-zero wet weights. Where a wet weight exits for Rice,  \n",
    "the dry weight is 65% of the wet weight. Where the wet weight exists for Maize, the dry weight is   \n",
    "75% of the wet weight."
   ]
  },
  {
   "cell_type": "code",
   "execution_count": 27,
   "id": "c8e0e13d",
   "metadata": {},
   "outputs": [
    {
     "name": "stdout",
     "output_type": "stream",
     "text": [
      "Filled Rice dry weight from wet weight: 3.36 as dry weight:2.184 which is 65.0% \n",
      "Filled Rice dry weight from wet weight: 10.76 as dry weight:6.994 which is 65.0% \n",
      "Filled Rice dry weight from wet weight: 2.54 as dry weight:1.651 which is 65.0% \n",
      "Filled Maize dry weight from wet weight: 22.02 as dry weight:16.515 which is 75.0% \n",
      "Filled Maize dry weight from wet weight: 4.385 as dry weight:3.28875 which is 75.0% \n",
      "Filled Maize dry weight from wet weight: 2.895 as dry weight:2.17125 which is 75.0% \n",
      "Filled Maize dry weight from wet weight: 9.7 as dry weight:7.2749999999999995 which is 75.0% \n"
     ]
    }
   ],
   "source": [
    "#create list of missing values\n",
    "na_list = [72,85,87,95,112,125,133]\n",
    "#calculate and fill missing values\n",
    "#define raw to horizontally shorten code for later printing\n",
    "raw = raw_actuarial_data\n",
    "for i in na_list:\n",
    "    #print(i)\n",
    "    if raw.loc[i,'crop_name'] == 'Rice':\n",
    "       # print(raw_actuarial_data.loc[i,'crop_dry_weight'])\n",
    "        raw.loc[i,'crop_dry_weight'] = raw.loc[i,'crop_wet_weight']*0.65\n",
    "      #  print(raw_actuarial_data.loc[i,'crop_dry_weight'])\n",
    "    if raw.loc[i,'crop_name'] == 'Maize':\n",
    "       # print(raw_actuarial_data.loc[i,'crop_dry_weight'])\n",
    "        raw.loc[i,'crop_dry_weight'] = raw.loc[i,'crop_wet_weight']*0.75\n",
    "      #  print(raw_actuarial_data.loc[i,'crop_dry_weight'])\n",
    "for i in na_list:\n",
    "    print (f\"Filled {raw.loc[i,'crop_name']} \",end = '') \n",
    "    print (f\"dry weight from wet weight: {raw.loc[i,'crop_wet_weight']} \",end = '')\n",
    "    print(f\"as dry weight:{raw.loc[i,'crop_dry_weight']} \", end = '')\n",
    "    percentage = (raw.loc[i,'crop_dry_weight']/raw.loc[i,'crop_wet_weight'])*100\n",
    "    print(f\"which is {percentage}% \")"
   ]
  },
  {
   "cell_type": "markdown",
   "id": "2884bcc6",
   "metadata": {},
   "source": [
    "# Test"
   ]
  },
  {
   "cell_type": "code",
   "execution_count": 28,
   "id": "2a7273c2",
   "metadata": {},
   "outputs": [
    {
     "data": {
      "text/plain": [
       "0"
      ]
     },
     "execution_count": 28,
     "metadata": {},
     "output_type": "execute_result"
    }
   ],
   "source": [
    "#we use code to check if the missing values were filled, by counting missing dry weight\n",
    "raw_actuarial_data.crop_dry_weight.isna().sum()"
   ]
  },
  {
   "cell_type": "code",
   "execution_count": 29,
   "id": "2c91164c",
   "metadata": {},
   "outputs": [
    {
     "data": {
      "text/plain": [
       "0"
      ]
     },
     "execution_count": 29,
     "metadata": {},
     "output_type": "execute_result"
    }
   ],
   "source": [
    "# We use code to check if the missing values were filled, by counting missing wet weight\n",
    "raw_actuarial_data.crop_wet_weight.isna().sum()"
   ]
  },
  {
   "cell_type": "markdown",
   "id": "3e035a5f",
   "metadata": {},
   "source": [
    "# Storing Data\n",
    "\n",
    "At this stage we store the cleaned file in a spreadsheet file"
   ]
  },
  {
   "cell_type": "code",
   "execution_count": 30,
   "id": "4eedbffa",
   "metadata": {},
   "outputs": [],
   "source": [
    "# We rename the data from raw to refined refined data\n",
    "refined_actuarial_data = raw_actuarial_data"
   ]
  },
  {
   "cell_type": "code",
   "execution_count": 31,
   "id": "f1b2b34f",
   "metadata": {},
   "outputs": [],
   "source": [
    "#Store in a spreadsheet\n",
    "refined_actuarial_data.to_csv('cleaned_actuarial_data.csv', index = False)"
   ]
  },
  {
   "cell_type": "markdown",
   "id": "49bd7dd0",
   "metadata": {},
   "source": [
    "# Actuarial computations on the cleaned data\n",
    "\n",
    "At this stage we do computation of the required information using the cleaned  \n",
    "data for the next stage of analysis.\n",
    "The purpose ofthe analysis is to compute:  \n",
    "payout scale\n",
    "yield attained in mt/ha\n",
    "payouts\n",
    "yield proportion\n",
    "the payouts for each case ID and subsequently  \n",
    "make analysis and visualizations to communicate findings."
   ]
  },
  {
   "cell_type": "code",
   "execution_count": 32,
   "id": "30f85d7c",
   "metadata": {},
   "outputs": [
    {
     "data": {
      "text/html": [
       "<div>\n",
       "<style scoped>\n",
       "    .dataframe tbody tr th:only-of-type {\n",
       "        vertical-align: middle;\n",
       "    }\n",
       "\n",
       "    .dataframe tbody tr th {\n",
       "        vertical-align: top;\n",
       "    }\n",
       "\n",
       "    .dataframe thead th {\n",
       "        text-align: right;\n",
       "    }\n",
       "</style>\n",
       "<table border=\"1\" class=\"dataframe\">\n",
       "  <thead>\n",
       "    <tr style=\"text-align: right;\">\n",
       "      <th></th>\n",
       "      <th>crop_name</th>\n",
       "      <th>farmers_block</th>\n",
       "      <th>crop_wet_weight</th>\n",
       "      <th>crop_dry_weight</th>\n",
       "      <th>box_length</th>\n",
       "      <th>box_width</th>\n",
       "    </tr>\n",
       "  </thead>\n",
       "  <tbody>\n",
       "    <tr>\n",
       "      <th>0</th>\n",
       "      <td>Maize</td>\n",
       "      <td>1</td>\n",
       "      <td>12.510</td>\n",
       "      <td>11.57</td>\n",
       "      <td>8</td>\n",
       "      <td>5</td>\n",
       "    </tr>\n",
       "    <tr>\n",
       "      <th>1</th>\n",
       "      <td>Maize</td>\n",
       "      <td>1</td>\n",
       "      <td>0.000</td>\n",
       "      <td>0.00</td>\n",
       "      <td>8</td>\n",
       "      <td>5</td>\n",
       "    </tr>\n",
       "    <tr>\n",
       "      <th>2</th>\n",
       "      <td>Maize</td>\n",
       "      <td>1</td>\n",
       "      <td>4.295</td>\n",
       "      <td>2.61</td>\n",
       "      <td>8</td>\n",
       "      <td>5</td>\n",
       "    </tr>\n",
       "    <tr>\n",
       "      <th>3</th>\n",
       "      <td>Maize</td>\n",
       "      <td>1</td>\n",
       "      <td>13.810</td>\n",
       "      <td>11.88</td>\n",
       "      <td>8</td>\n",
       "      <td>5</td>\n",
       "    </tr>\n",
       "    <tr>\n",
       "      <th>4</th>\n",
       "      <td>Maize</td>\n",
       "      <td>1</td>\n",
       "      <td>0.000</td>\n",
       "      <td>0.00</td>\n",
       "      <td>8</td>\n",
       "      <td>5</td>\n",
       "    </tr>\n",
       "  </tbody>\n",
       "</table>\n",
       "</div>"
      ],
      "text/plain": [
       "  crop_name  farmers_block  crop_wet_weight  crop_dry_weight  box_length  \\\n",
       "0     Maize              1           12.510            11.57           8   \n",
       "1     Maize              1            0.000             0.00           8   \n",
       "2     Maize              1            4.295             2.61           8   \n",
       "3     Maize              1           13.810            11.88           8   \n",
       "4     Maize              1            0.000             0.00           8   \n",
       "\n",
       "   box_width  \n",
       "0          5  \n",
       "1          5  \n",
       "2          5  \n",
       "3          5  \n",
       "4          5  "
      ]
     },
     "execution_count": 32,
     "metadata": {},
     "output_type": "execute_result"
    }
   ],
   "source": [
    "# We use code to load the clean data to analyze\n",
    "cleaned_data = pd.read_csv('cleaned_actuarial_data.csv')\n",
    "cleaned_data.head()"
   ]
  },
  {
   "cell_type": "markdown",
   "id": "93869541",
   "metadata": {},
   "source": [
    "## We apply the benchmark data to the yields dataset.\n",
    "\n",
    "The Benchmark Table\n",
    "\n",
    "|Block|Crop| Benchmark Yield(MT/Ha)| Sum Insured in millions$|\n",
    "|-----|----|---------|--|\n",
    "|1|Maize|3.4|7|\n",
    "|2|Rice|2.63|23|\n",
    "|3|Maize|3.84|17|\n",
    "|4|Rice|3|3|\n",
    "|5|Maize|1.5|40|"
   ]
  },
  {
   "cell_type": "markdown",
   "id": "c9d97e01",
   "metadata": {},
   "source": [
    "## Apply Benchmark Yield and Sum Insured"
   ]
  },
  {
   "cell_type": "code",
   "execution_count": 33,
   "id": "a26c78ea",
   "metadata": {},
   "outputs": [],
   "source": [
    "# We use code to apply benchmark yield to the data\n",
    "# We create benchmark empty list\n",
    "benchmark_yield_metric_t = []\n",
    "# We create sum insured empty list\n",
    "sum_insured_millions = []\n",
    "\n",
    "#fill the lists with a loop\n",
    "for i in cleaned_data.farmers_block:\n",
    "    if i == 1:\n",
    "        benchmark_yield_metric_t.append(3.4)\n",
    "        sum_insured_millions.append(7)\n",
    "    if i == 2:\n",
    "        benchmark_yield_metric_t.append(2.63)\n",
    "        sum_insured_millions.append(23)\n",
    "    if i == 3:\n",
    "        benchmark_yield_metric_t.append(3.84)\n",
    "        sum_insured_millions.append(17)\n",
    "    if i == 4:\n",
    "        benchmark_yield_metric_t.append(3)\n",
    "        sum_insured_millions.append(3)\n",
    "    if i == 5:\n",
    "        benchmark_yield_metric_t.append(1.5)\n",
    "        sum_insured_millions.append(40)"
   ]
  },
  {
   "cell_type": "code",
   "execution_count": 34,
   "id": "3106649d",
   "metadata": {},
   "outputs": [
    {
     "data": {
      "text/plain": [
       "5"
      ]
     },
     "execution_count": 34,
     "metadata": {},
     "output_type": "execute_result"
    }
   ],
   "source": [
    "# We use code to confirm unique values\n",
    "benchmark_yield_metric_t\n",
    "a_set = set(benchmark_yield_metric_t)\n",
    "len(a_set)"
   ]
  },
  {
   "cell_type": "code",
   "execution_count": 35,
   "id": "bcabdc57",
   "metadata": {},
   "outputs": [
    {
     "data": {
      "text/plain": [
       "5"
      ]
     },
     "execution_count": 35,
     "metadata": {},
     "output_type": "execute_result"
    }
   ],
   "source": [
    "# We use code to confirm unique values\n",
    "sum_insured_millions\n",
    "a_set = set(sum_insured_millions)\n",
    "len(a_set)"
   ]
  },
  {
   "cell_type": "markdown",
   "id": "74ea6de6",
   "metadata": {},
   "source": [
    "### We append sum insured in millions and benchmark yield to our data"
   ]
  },
  {
   "cell_type": "code",
   "execution_count": 36,
   "id": "530fc9e2",
   "metadata": {},
   "outputs": [
    {
     "data": {
      "text/html": [
       "<div>\n",
       "<style scoped>\n",
       "    .dataframe tbody tr th:only-of-type {\n",
       "        vertical-align: middle;\n",
       "    }\n",
       "\n",
       "    .dataframe tbody tr th {\n",
       "        vertical-align: top;\n",
       "    }\n",
       "\n",
       "    .dataframe thead th {\n",
       "        text-align: right;\n",
       "    }\n",
       "</style>\n",
       "<table border=\"1\" class=\"dataframe\">\n",
       "  <thead>\n",
       "    <tr style=\"text-align: right;\">\n",
       "      <th></th>\n",
       "      <th>crop_name</th>\n",
       "      <th>farmers_block</th>\n",
       "      <th>sum_insured_millions</th>\n",
       "    </tr>\n",
       "  </thead>\n",
       "  <tbody>\n",
       "    <tr>\n",
       "      <th>1</th>\n",
       "      <td>Maize</td>\n",
       "      <td>1</td>\n",
       "      <td>7</td>\n",
       "    </tr>\n",
       "    <tr>\n",
       "      <th>30</th>\n",
       "      <td>Maize</td>\n",
       "      <td>1</td>\n",
       "      <td>7</td>\n",
       "    </tr>\n",
       "    <tr>\n",
       "      <th>60</th>\n",
       "      <td>Rice</td>\n",
       "      <td>2</td>\n",
       "      <td>23</td>\n",
       "    </tr>\n",
       "    <tr>\n",
       "      <th>180</th>\n",
       "      <td>Maize</td>\n",
       "      <td>5</td>\n",
       "      <td>40</td>\n",
       "    </tr>\n",
       "    <tr>\n",
       "      <th>90</th>\n",
       "      <td>Maize</td>\n",
       "      <td>3</td>\n",
       "      <td>17</td>\n",
       "    </tr>\n",
       "    <tr>\n",
       "      <th>140</th>\n",
       "      <td>Rice</td>\n",
       "      <td>4</td>\n",
       "      <td>3</td>\n",
       "    </tr>\n",
       "    <tr>\n",
       "      <th>160</th>\n",
       "      <td>Maize</td>\n",
       "      <td>5</td>\n",
       "      <td>40</td>\n",
       "    </tr>\n",
       "  </tbody>\n",
       "</table>\n",
       "</div>"
      ],
      "text/plain": [
       "    crop_name  farmers_block  sum_insured_millions\n",
       "1       Maize              1                     7\n",
       "30      Maize              1                     7\n",
       "60       Rice              2                    23\n",
       "180     Maize              5                    40\n",
       "90      Maize              3                    17\n",
       "140      Rice              4                     3\n",
       "160     Maize              5                    40"
      ]
     },
     "execution_count": 36,
     "metadata": {},
     "output_type": "execute_result"
    }
   ],
   "source": [
    "# We apply the sum insured data to the dataframe\n",
    "cleaned_data['sum_insured_millions'] = sum_insured_millions\n",
    "cleaned_data[['crop_name','farmers_block',\n",
    "              'sum_insured_millions']].iloc[[1,30,60,180,90,140,160]]"
   ]
  },
  {
   "cell_type": "code",
   "execution_count": 37,
   "id": "154b5004",
   "metadata": {},
   "outputs": [
    {
     "data": {
      "text/html": [
       "<div>\n",
       "<style scoped>\n",
       "    .dataframe tbody tr th:only-of-type {\n",
       "        vertical-align: middle;\n",
       "    }\n",
       "\n",
       "    .dataframe tbody tr th {\n",
       "        vertical-align: top;\n",
       "    }\n",
       "\n",
       "    .dataframe thead th {\n",
       "        text-align: right;\n",
       "    }\n",
       "</style>\n",
       "<table border=\"1\" class=\"dataframe\">\n",
       "  <thead>\n",
       "    <tr style=\"text-align: right;\">\n",
       "      <th></th>\n",
       "      <th>crop_name</th>\n",
       "      <th>farmers_block</th>\n",
       "      <th>benchmark_yield_tonnes</th>\n",
       "    </tr>\n",
       "  </thead>\n",
       "  <tbody>\n",
       "    <tr>\n",
       "      <th>1</th>\n",
       "      <td>Maize</td>\n",
       "      <td>1</td>\n",
       "      <td>3.40</td>\n",
       "    </tr>\n",
       "    <tr>\n",
       "      <th>30</th>\n",
       "      <td>Maize</td>\n",
       "      <td>1</td>\n",
       "      <td>3.40</td>\n",
       "    </tr>\n",
       "    <tr>\n",
       "      <th>60</th>\n",
       "      <td>Rice</td>\n",
       "      <td>2</td>\n",
       "      <td>2.63</td>\n",
       "    </tr>\n",
       "    <tr>\n",
       "      <th>180</th>\n",
       "      <td>Maize</td>\n",
       "      <td>5</td>\n",
       "      <td>1.50</td>\n",
       "    </tr>\n",
       "    <tr>\n",
       "      <th>90</th>\n",
       "      <td>Maize</td>\n",
       "      <td>3</td>\n",
       "      <td>3.84</td>\n",
       "    </tr>\n",
       "    <tr>\n",
       "      <th>140</th>\n",
       "      <td>Rice</td>\n",
       "      <td>4</td>\n",
       "      <td>3.00</td>\n",
       "    </tr>\n",
       "    <tr>\n",
       "      <th>160</th>\n",
       "      <td>Maize</td>\n",
       "      <td>5</td>\n",
       "      <td>1.50</td>\n",
       "    </tr>\n",
       "  </tbody>\n",
       "</table>\n",
       "</div>"
      ],
      "text/plain": [
       "    crop_name  farmers_block  benchmark_yield_tonnes\n",
       "1       Maize              1                    3.40\n",
       "30      Maize              1                    3.40\n",
       "60       Rice              2                    2.63\n",
       "180     Maize              5                    1.50\n",
       "90      Maize              3                    3.84\n",
       "140      Rice              4                    3.00\n",
       "160     Maize              5                    1.50"
      ]
     },
     "execution_count": 37,
     "metadata": {},
     "output_type": "execute_result"
    }
   ],
   "source": [
    "#We apply the benchmark yield in tonnes data to the dataframe\n",
    "cleaned_data['benchmark_yield_tonnes'] = benchmark_yield_metric_t\n",
    "cleaned_data[['crop_name','farmers_block',\n",
    "              'benchmark_yield_tonnes']].iloc[[1,30,60,180,90,140,160]]"
   ]
  },
  {
   "cell_type": "markdown",
   "id": "40079e50",
   "metadata": {},
   "source": [
    "### We compute actual yield and yield proportions and append to the dataframe"
   ]
  },
  {
   "cell_type": "code",
   "execution_count": 38,
   "id": "1c289b8d",
   "metadata": {},
   "outputs": [],
   "source": [
    "# We use code to compute the actual yield in kgs to actual yield in tonnes\n",
    "cleaned_data['yield_attained_mt/ha'] = cleaned_data['crop_dry_weight']/1000\n",
    "\n",
    "# We use code to compute the yield proportion as percentage\n",
    "proportion = (cleaned_data['crop_dry_weight']/cleaned_data['benchmark_yield_tonnes'])*100\n",
    "cleaned_data['yield_proportion_percentage'] = proportion"
   ]
  },
  {
   "cell_type": "code",
   "execution_count": 39,
   "id": "130d6fb9",
   "metadata": {},
   "outputs": [
    {
     "data": {
      "text/html": [
       "<div>\n",
       "<style scoped>\n",
       "    .dataframe tbody tr th:only-of-type {\n",
       "        vertical-align: middle;\n",
       "    }\n",
       "\n",
       "    .dataframe tbody tr th {\n",
       "        vertical-align: top;\n",
       "    }\n",
       "\n",
       "    .dataframe thead th {\n",
       "        text-align: right;\n",
       "    }\n",
       "</style>\n",
       "<table border=\"1\" class=\"dataframe\">\n",
       "  <thead>\n",
       "    <tr style=\"text-align: right;\">\n",
       "      <th></th>\n",
       "      <th>crop_name</th>\n",
       "      <th>benchmark_yield_tonnes</th>\n",
       "      <th>yield_attained_mt/ha</th>\n",
       "      <th>yield_proportion_percentage</th>\n",
       "    </tr>\n",
       "  </thead>\n",
       "  <tbody>\n",
       "    <tr>\n",
       "      <th>1</th>\n",
       "      <td>Maize</td>\n",
       "      <td>3.40</td>\n",
       "      <td>0.000000</td>\n",
       "      <td>0.000000</td>\n",
       "    </tr>\n",
       "    <tr>\n",
       "      <th>30</th>\n",
       "      <td>Maize</td>\n",
       "      <td>3.40</td>\n",
       "      <td>0.000000</td>\n",
       "      <td>0.000000</td>\n",
       "    </tr>\n",
       "    <tr>\n",
       "      <th>60</th>\n",
       "      <td>Rice</td>\n",
       "      <td>2.63</td>\n",
       "      <td>0.008700</td>\n",
       "      <td>330.798479</td>\n",
       "    </tr>\n",
       "    <tr>\n",
       "      <th>180</th>\n",
       "      <td>Maize</td>\n",
       "      <td>1.50</td>\n",
       "      <td>0.004825</td>\n",
       "      <td>321.666667</td>\n",
       "    </tr>\n",
       "    <tr>\n",
       "      <th>90</th>\n",
       "      <td>Maize</td>\n",
       "      <td>3.84</td>\n",
       "      <td>0.001728</td>\n",
       "      <td>45.000000</td>\n",
       "    </tr>\n",
       "    <tr>\n",
       "      <th>140</th>\n",
       "      <td>Rice</td>\n",
       "      <td>3.00</td>\n",
       "      <td>0.003445</td>\n",
       "      <td>114.833333</td>\n",
       "    </tr>\n",
       "    <tr>\n",
       "      <th>160</th>\n",
       "      <td>Maize</td>\n",
       "      <td>1.50</td>\n",
       "      <td>0.013980</td>\n",
       "      <td>932.000000</td>\n",
       "    </tr>\n",
       "  </tbody>\n",
       "</table>\n",
       "</div>"
      ],
      "text/plain": [
       "    crop_name  benchmark_yield_tonnes  yield_attained_mt/ha  \\\n",
       "1       Maize                    3.40              0.000000   \n",
       "30      Maize                    3.40              0.000000   \n",
       "60       Rice                    2.63              0.008700   \n",
       "180     Maize                    1.50              0.004825   \n",
       "90      Maize                    3.84              0.001728   \n",
       "140      Rice                    3.00              0.003445   \n",
       "160     Maize                    1.50              0.013980   \n",
       "\n",
       "     yield_proportion_percentage  \n",
       "1                       0.000000  \n",
       "30                      0.000000  \n",
       "60                    330.798479  \n",
       "180                   321.666667  \n",
       "90                     45.000000  \n",
       "140                   114.833333  \n",
       "160                   932.000000  "
      ]
     },
     "execution_count": 39,
     "metadata": {},
     "output_type": "execute_result"
    }
   ],
   "source": [
    "cleaned_data.iloc[[1,30,60,180,90,140,160]][['crop_name','benchmark_yield_tonnes',\n",
    "            'yield_attained_mt/ha','yield_proportion_percentage']]"
   ]
  },
  {
   "cell_type": "markdown",
   "id": "e31d31c1",
   "metadata": {},
   "source": [
    "## Calculate payout"
   ]
  },
  {
   "cell_type": "code",
   "execution_count": 40,
   "id": "16565346",
   "metadata": {},
   "outputs": [],
   "source": [
    "#set parameter values\n",
    "trigger = 75\n",
    "exit = 10\n",
    "tsi_at_exit = 90"
   ]
  },
  {
   "cell_type": "code",
   "execution_count": 41,
   "id": "08026cc7",
   "metadata": {},
   "outputs": [],
   "source": [
    "#compute payout scale and add to the dataframe\n",
    "payout = (trigger - cleaned_data['yield_proportion_percentage'])/(trigger-exit)\n",
    "cleaned_data['payout_scale'] = payout\n",
    "for i in cleaned_data['payout_scale'].index:    \n",
    "    if cleaned_data.loc[i,'payout_scale'] < 0:\n",
    "        cleaned_data.loc[i,'payout_scale'] = 0"
   ]
  },
  {
   "cell_type": "code",
   "execution_count": 42,
   "id": "c7e59374",
   "metadata": {},
   "outputs": [
    {
     "data": {
      "text/html": [
       "<div>\n",
       "<style scoped>\n",
       "    .dataframe tbody tr th:only-of-type {\n",
       "        vertical-align: middle;\n",
       "    }\n",
       "\n",
       "    .dataframe tbody tr th {\n",
       "        vertical-align: top;\n",
       "    }\n",
       "\n",
       "    .dataframe thead th {\n",
       "        text-align: right;\n",
       "    }\n",
       "</style>\n",
       "<table border=\"1\" class=\"dataframe\">\n",
       "  <thead>\n",
       "    <tr style=\"text-align: right;\">\n",
       "      <th></th>\n",
       "      <th>crop_name</th>\n",
       "      <th>benchmark_yield_tonnes</th>\n",
       "      <th>yield_attained_mt/ha</th>\n",
       "      <th>yield_proportion_percentage</th>\n",
       "      <th>payout_scale</th>\n",
       "    </tr>\n",
       "  </thead>\n",
       "  <tbody>\n",
       "    <tr>\n",
       "      <th>0</th>\n",
       "      <td>Maize</td>\n",
       "      <td>3.4</td>\n",
       "      <td>0.01157</td>\n",
       "      <td>340.294118</td>\n",
       "      <td>0.000000</td>\n",
       "    </tr>\n",
       "    <tr>\n",
       "      <th>1</th>\n",
       "      <td>Maize</td>\n",
       "      <td>3.4</td>\n",
       "      <td>0.00000</td>\n",
       "      <td>0.000000</td>\n",
       "      <td>1.153846</td>\n",
       "    </tr>\n",
       "    <tr>\n",
       "      <th>2</th>\n",
       "      <td>Maize</td>\n",
       "      <td>3.4</td>\n",
       "      <td>0.00261</td>\n",
       "      <td>76.764706</td>\n",
       "      <td>0.000000</td>\n",
       "    </tr>\n",
       "    <tr>\n",
       "      <th>3</th>\n",
       "      <td>Maize</td>\n",
       "      <td>3.4</td>\n",
       "      <td>0.01188</td>\n",
       "      <td>349.411765</td>\n",
       "      <td>0.000000</td>\n",
       "    </tr>\n",
       "    <tr>\n",
       "      <th>4</th>\n",
       "      <td>Maize</td>\n",
       "      <td>3.4</td>\n",
       "      <td>0.00000</td>\n",
       "      <td>0.000000</td>\n",
       "      <td>1.153846</td>\n",
       "    </tr>\n",
       "  </tbody>\n",
       "</table>\n",
       "</div>"
      ],
      "text/plain": [
       "  crop_name  benchmark_yield_tonnes  yield_attained_mt/ha  \\\n",
       "0     Maize                     3.4               0.01157   \n",
       "1     Maize                     3.4               0.00000   \n",
       "2     Maize                     3.4               0.00261   \n",
       "3     Maize                     3.4               0.01188   \n",
       "4     Maize                     3.4               0.00000   \n",
       "\n",
       "   yield_proportion_percentage  payout_scale  \n",
       "0                   340.294118      0.000000  \n",
       "1                     0.000000      1.153846  \n",
       "2                    76.764706      0.000000  \n",
       "3                   349.411765      0.000000  \n",
       "4                     0.000000      1.153846  "
      ]
     },
     "execution_count": 42,
     "metadata": {},
     "output_type": "execute_result"
    }
   ],
   "source": [
    "# We use code to view results\n",
    "cleaned_data.head()[['crop_name','benchmark_yield_tonnes',\n",
    "                     'yield_attained_mt/ha','yield_proportion_percentage',\n",
    "                     'payout_scale']]"
   ]
  },
  {
   "cell_type": "code",
   "execution_count": 43,
   "id": "cbfef8d9",
   "metadata": {},
   "outputs": [],
   "source": [
    "# We use code to compute payout\n",
    "# We create payouts empty dictionary\n",
    "payout = []\n",
    "\n",
    "for i in cleaned_data.index:\n",
    "    if cleaned_data.yield_proportion_percentage[i] >= trigger:\n",
    "        payout.append(0)\n",
    "    if cleaned_data.yield_proportion_percentage[i] < trigger:\n",
    "        value = cleaned_data.sum_insured_millions[i]*cleaned_data.payout_scale[i]\n",
    "        payout.append(value)"
   ]
  },
  {
   "cell_type": "code",
   "execution_count": 44,
   "id": "34a555da",
   "metadata": {},
   "outputs": [],
   "source": [
    "# We append the payouts data to the dataframe\n",
    "cleaned_data['payout_amount'] = payout"
   ]
  },
  {
   "cell_type": "code",
   "execution_count": 45,
   "id": "d7485aec",
   "metadata": {},
   "outputs": [
    {
     "data": {
      "text/html": [
       "<div>\n",
       "<style scoped>\n",
       "    .dataframe tbody tr th:only-of-type {\n",
       "        vertical-align: middle;\n",
       "    }\n",
       "\n",
       "    .dataframe tbody tr th {\n",
       "        vertical-align: top;\n",
       "    }\n",
       "\n",
       "    .dataframe thead th {\n",
       "        text-align: right;\n",
       "    }\n",
       "</style>\n",
       "<table border=\"1\" class=\"dataframe\">\n",
       "  <thead>\n",
       "    <tr style=\"text-align: right;\">\n",
       "      <th></th>\n",
       "      <th>crop_name</th>\n",
       "      <th>benchmark_yield_tonnes</th>\n",
       "      <th>yield_attained_mt/ha</th>\n",
       "      <th>yield_proportion_percentage</th>\n",
       "      <th>payout_scale</th>\n",
       "      <th>payout_amount</th>\n",
       "    </tr>\n",
       "  </thead>\n",
       "  <tbody>\n",
       "    <tr>\n",
       "      <th>1</th>\n",
       "      <td>Maize</td>\n",
       "      <td>3.40</td>\n",
       "      <td>0.000000</td>\n",
       "      <td>0.000000</td>\n",
       "      <td>1.153846</td>\n",
       "      <td>8.076923</td>\n",
       "    </tr>\n",
       "    <tr>\n",
       "      <th>30</th>\n",
       "      <td>Maize</td>\n",
       "      <td>3.40</td>\n",
       "      <td>0.000000</td>\n",
       "      <td>0.000000</td>\n",
       "      <td>1.153846</td>\n",
       "      <td>8.076923</td>\n",
       "    </tr>\n",
       "    <tr>\n",
       "      <th>60</th>\n",
       "      <td>Rice</td>\n",
       "      <td>2.63</td>\n",
       "      <td>0.008700</td>\n",
       "      <td>330.798479</td>\n",
       "      <td>0.000000</td>\n",
       "      <td>0.000000</td>\n",
       "    </tr>\n",
       "    <tr>\n",
       "      <th>180</th>\n",
       "      <td>Maize</td>\n",
       "      <td>1.50</td>\n",
       "      <td>0.004825</td>\n",
       "      <td>321.666667</td>\n",
       "      <td>0.000000</td>\n",
       "      <td>0.000000</td>\n",
       "    </tr>\n",
       "    <tr>\n",
       "      <th>90</th>\n",
       "      <td>Maize</td>\n",
       "      <td>3.84</td>\n",
       "      <td>0.001728</td>\n",
       "      <td>45.000000</td>\n",
       "      <td>0.461538</td>\n",
       "      <td>7.846154</td>\n",
       "    </tr>\n",
       "    <tr>\n",
       "      <th>140</th>\n",
       "      <td>Rice</td>\n",
       "      <td>3.00</td>\n",
       "      <td>0.003445</td>\n",
       "      <td>114.833333</td>\n",
       "      <td>0.000000</td>\n",
       "      <td>0.000000</td>\n",
       "    </tr>\n",
       "    <tr>\n",
       "      <th>160</th>\n",
       "      <td>Maize</td>\n",
       "      <td>1.50</td>\n",
       "      <td>0.013980</td>\n",
       "      <td>932.000000</td>\n",
       "      <td>0.000000</td>\n",
       "      <td>0.000000</td>\n",
       "    </tr>\n",
       "  </tbody>\n",
       "</table>\n",
       "</div>"
      ],
      "text/plain": [
       "    crop_name  benchmark_yield_tonnes  yield_attained_mt/ha  \\\n",
       "1       Maize                    3.40              0.000000   \n",
       "30      Maize                    3.40              0.000000   \n",
       "60       Rice                    2.63              0.008700   \n",
       "180     Maize                    1.50              0.004825   \n",
       "90      Maize                    3.84              0.001728   \n",
       "140      Rice                    3.00              0.003445   \n",
       "160     Maize                    1.50              0.013980   \n",
       "\n",
       "     yield_proportion_percentage  payout_scale  payout_amount  \n",
       "1                       0.000000      1.153846       8.076923  \n",
       "30                      0.000000      1.153846       8.076923  \n",
       "60                    330.798479      0.000000       0.000000  \n",
       "180                   321.666667      0.000000       0.000000  \n",
       "90                     45.000000      0.461538       7.846154  \n",
       "140                   114.833333      0.000000       0.000000  \n",
       "160                   932.000000      0.000000       0.000000  "
      ]
     },
     "execution_count": 45,
     "metadata": {},
     "output_type": "execute_result"
    }
   ],
   "source": [
    "cleaned_data.iloc[[1,30,60,180,90,140,160]][['crop_name','benchmark_yield_tonnes',\n",
    "                     'yield_attained_mt/ha','yield_proportion_percentage',\n",
    "                     'payout_scale','payout_amount']]"
   ]
  },
  {
   "cell_type": "code",
   "execution_count": 46,
   "id": "c50b1113",
   "metadata": {},
   "outputs": [],
   "source": [
    "# We create a final dataset containing all the computed data\n",
    "cleaned_payouts_calculated_data = cleaned_data"
   ]
  },
  {
   "cell_type": "code",
   "execution_count": 47,
   "id": "a234c408",
   "metadata": {},
   "outputs": [
    {
     "data": {
      "text/html": [
       "<div>\n",
       "<style scoped>\n",
       "    .dataframe tbody tr th:only-of-type {\n",
       "        vertical-align: middle;\n",
       "    }\n",
       "\n",
       "    .dataframe tbody tr th {\n",
       "        vertical-align: top;\n",
       "    }\n",
       "\n",
       "    .dataframe thead th {\n",
       "        text-align: right;\n",
       "    }\n",
       "</style>\n",
       "<table border=\"1\" class=\"dataframe\">\n",
       "  <thead>\n",
       "    <tr style=\"text-align: right;\">\n",
       "      <th></th>\n",
       "      <th>crop_name</th>\n",
       "      <th>benchmark_yield_tonnes</th>\n",
       "      <th>yield_attained_mt/ha</th>\n",
       "      <th>yield_proportion_percentage</th>\n",
       "      <th>payout_scale</th>\n",
       "      <th>payout_amount</th>\n",
       "    </tr>\n",
       "  </thead>\n",
       "  <tbody>\n",
       "    <tr>\n",
       "      <th>1</th>\n",
       "      <td>Maize</td>\n",
       "      <td>3.40</td>\n",
       "      <td>0.000000</td>\n",
       "      <td>0.000000</td>\n",
       "      <td>1.153846</td>\n",
       "      <td>8.076923</td>\n",
       "    </tr>\n",
       "    <tr>\n",
       "      <th>30</th>\n",
       "      <td>Maize</td>\n",
       "      <td>3.40</td>\n",
       "      <td>0.000000</td>\n",
       "      <td>0.000000</td>\n",
       "      <td>1.153846</td>\n",
       "      <td>8.076923</td>\n",
       "    </tr>\n",
       "    <tr>\n",
       "      <th>60</th>\n",
       "      <td>Rice</td>\n",
       "      <td>2.63</td>\n",
       "      <td>0.008700</td>\n",
       "      <td>330.798479</td>\n",
       "      <td>0.000000</td>\n",
       "      <td>0.000000</td>\n",
       "    </tr>\n",
       "    <tr>\n",
       "      <th>180</th>\n",
       "      <td>Maize</td>\n",
       "      <td>1.50</td>\n",
       "      <td>0.004825</td>\n",
       "      <td>321.666667</td>\n",
       "      <td>0.000000</td>\n",
       "      <td>0.000000</td>\n",
       "    </tr>\n",
       "    <tr>\n",
       "      <th>90</th>\n",
       "      <td>Maize</td>\n",
       "      <td>3.84</td>\n",
       "      <td>0.001728</td>\n",
       "      <td>45.000000</td>\n",
       "      <td>0.461538</td>\n",
       "      <td>7.846154</td>\n",
       "    </tr>\n",
       "    <tr>\n",
       "      <th>140</th>\n",
       "      <td>Rice</td>\n",
       "      <td>3.00</td>\n",
       "      <td>0.003445</td>\n",
       "      <td>114.833333</td>\n",
       "      <td>0.000000</td>\n",
       "      <td>0.000000</td>\n",
       "    </tr>\n",
       "    <tr>\n",
       "      <th>160</th>\n",
       "      <td>Maize</td>\n",
       "      <td>1.50</td>\n",
       "      <td>0.013980</td>\n",
       "      <td>932.000000</td>\n",
       "      <td>0.000000</td>\n",
       "      <td>0.000000</td>\n",
       "    </tr>\n",
       "  </tbody>\n",
       "</table>\n",
       "</div>"
      ],
      "text/plain": [
       "    crop_name  benchmark_yield_tonnes  yield_attained_mt/ha  \\\n",
       "1       Maize                    3.40              0.000000   \n",
       "30      Maize                    3.40              0.000000   \n",
       "60       Rice                    2.63              0.008700   \n",
       "180     Maize                    1.50              0.004825   \n",
       "90      Maize                    3.84              0.001728   \n",
       "140      Rice                    3.00              0.003445   \n",
       "160     Maize                    1.50              0.013980   \n",
       "\n",
       "     yield_proportion_percentage  payout_scale  payout_amount  \n",
       "1                       0.000000      1.153846       8.076923  \n",
       "30                      0.000000      1.153846       8.076923  \n",
       "60                    330.798479      0.000000       0.000000  \n",
       "180                   321.666667      0.000000       0.000000  \n",
       "90                     45.000000      0.461538       7.846154  \n",
       "140                   114.833333      0.000000       0.000000  \n",
       "160                   932.000000      0.000000       0.000000  "
      ]
     },
     "execution_count": 47,
     "metadata": {},
     "output_type": "execute_result"
    }
   ],
   "source": [
    "# We use code to display the data\n",
    "cleaned_payouts_calculated_data.iloc[[1,30,60,180,90,140,160]][['crop_name',\n",
    "            'benchmark_yield_tonnes','yield_attained_mt/ha',\n",
    "            'yield_proportion_percentage', 'payout_scale','payout_amount']]"
   ]
  },
  {
   "cell_type": "code",
   "execution_count": 48,
   "id": "ef237f12",
   "metadata": {},
   "outputs": [],
   "source": [
    "cleaned_payouts_calculated_data.to_csv('cleaned_payouts_calculated_data.csv',index = False)"
   ]
  },
  {
   "cell_type": "markdown",
   "id": "82e626ba",
   "metadata": {},
   "source": [
    "## Analysis of insights\n",
    "\n",
    "> In this section we do exploratory data analysis to get insights from the cleaned, payouts calculated data"
   ]
  },
  {
   "cell_type": "markdown",
   "id": "131f6498",
   "metadata": {},
   "source": [
    "## Summary statistics"
   ]
  },
  {
   "cell_type": "code",
   "execution_count": 52,
   "id": "3f562d4e",
   "metadata": {},
   "outputs": [
    {
     "data": {
      "text/html": [
       "<div>\n",
       "<style scoped>\n",
       "    .dataframe tbody tr th:only-of-type {\n",
       "        vertical-align: middle;\n",
       "    }\n",
       "\n",
       "    .dataframe tbody tr th {\n",
       "        vertical-align: top;\n",
       "    }\n",
       "\n",
       "    .dataframe thead th {\n",
       "        text-align: right;\n",
       "    }\n",
       "</style>\n",
       "<table border=\"1\" class=\"dataframe\">\n",
       "  <thead>\n",
       "    <tr style=\"text-align: right;\">\n",
       "      <th></th>\n",
       "      <th>farmers_block</th>\n",
       "      <th>crop_wet_weight</th>\n",
       "      <th>crop_dry_weight</th>\n",
       "      <th>box_length</th>\n",
       "      <th>box_width</th>\n",
       "      <th>sum_insured_millions</th>\n",
       "      <th>benchmark_yield_tonnes</th>\n",
       "      <th>yield_attained_mt/ha</th>\n",
       "      <th>yield_proportion_percentage</th>\n",
       "      <th>payout_scale</th>\n",
       "      <th>payout_amount</th>\n",
       "    </tr>\n",
       "  </thead>\n",
       "  <tbody>\n",
       "    <tr>\n",
       "      <th>count</th>\n",
       "      <td>192.000000</td>\n",
       "      <td>192.000000</td>\n",
       "      <td>192.000000</td>\n",
       "      <td>192.000000</td>\n",
       "      <td>192.000000</td>\n",
       "      <td>192.000000</td>\n",
       "      <td>192.000000</td>\n",
       "      <td>192.000000</td>\n",
       "      <td>1.920000e+02</td>\n",
       "      <td>192.000000</td>\n",
       "      <td>192.000000</td>\n",
       "    </tr>\n",
       "    <tr>\n",
       "      <th>mean</th>\n",
       "      <td>2.833333</td>\n",
       "      <td>9.145911</td>\n",
       "      <td>214.232901</td>\n",
       "      <td>8.114583</td>\n",
       "      <td>5.041667</td>\n",
       "      <td>18.223958</td>\n",
       "      <td>2.923073</td>\n",
       "      <td>0.214233</td>\n",
       "      <td>8.190957e+03</td>\n",
       "      <td>0.181523</td>\n",
       "      <td>2.015877</td>\n",
       "    </tr>\n",
       "    <tr>\n",
       "      <th>std</th>\n",
       "      <td>1.377962</td>\n",
       "      <td>7.934673</td>\n",
       "      <td>2886.334549</td>\n",
       "      <td>2.397074</td>\n",
       "      <td>1.143309</td>\n",
       "      <td>12.225064</td>\n",
       "      <td>0.780283</td>\n",
       "      <td>2.886335</td>\n",
       "      <td>1.097436e+05</td>\n",
       "      <td>0.345472</td>\n",
       "      <td>3.858601</td>\n",
       "    </tr>\n",
       "    <tr>\n",
       "      <th>min</th>\n",
       "      <td>1.000000</td>\n",
       "      <td>0.000000</td>\n",
       "      <td>0.000000</td>\n",
       "      <td>2.000000</td>\n",
       "      <td>1.000000</td>\n",
       "      <td>3.000000</td>\n",
       "      <td>1.500000</td>\n",
       "      <td>0.000000</td>\n",
       "      <td>0.000000e+00</td>\n",
       "      <td>0.000000</td>\n",
       "      <td>0.000000</td>\n",
       "    </tr>\n",
       "    <tr>\n",
       "      <th>25%</th>\n",
       "      <td>2.000000</td>\n",
       "      <td>3.783750</td>\n",
       "      <td>2.015000</td>\n",
       "      <td>8.000000</td>\n",
       "      <td>5.000000</td>\n",
       "      <td>7.000000</td>\n",
       "      <td>2.630000</td>\n",
       "      <td>0.002015</td>\n",
       "      <td>6.171875e+01</td>\n",
       "      <td>0.000000</td>\n",
       "      <td>0.000000</td>\n",
       "    </tr>\n",
       "    <tr>\n",
       "      <th>50%</th>\n",
       "      <td>3.000000</td>\n",
       "      <td>6.537500</td>\n",
       "      <td>3.432500</td>\n",
       "      <td>8.000000</td>\n",
       "      <td>5.000000</td>\n",
       "      <td>17.000000</td>\n",
       "      <td>3.000000</td>\n",
       "      <td>0.003432</td>\n",
       "      <td>1.122794e+02</td>\n",
       "      <td>0.000000</td>\n",
       "      <td>0.000000</td>\n",
       "    </tr>\n",
       "    <tr>\n",
       "      <th>75%</th>\n",
       "      <td>4.000000</td>\n",
       "      <td>12.302500</td>\n",
       "      <td>7.420000</td>\n",
       "      <td>8.000000</td>\n",
       "      <td>5.000000</td>\n",
       "      <td>23.000000</td>\n",
       "      <td>3.400000</td>\n",
       "      <td>0.007420</td>\n",
       "      <td>2.722656e+02</td>\n",
       "      <td>0.204327</td>\n",
       "      <td>2.522184</td>\n",
       "    </tr>\n",
       "    <tr>\n",
       "      <th>max</th>\n",
       "      <td>5.000000</td>\n",
       "      <td>40.070000</td>\n",
       "      <td>40000.000000</td>\n",
       "      <td>40.000000</td>\n",
       "      <td>20.000000</td>\n",
       "      <td>40.000000</td>\n",
       "      <td>3.840000</td>\n",
       "      <td>40.000000</td>\n",
       "      <td>1.520913e+06</td>\n",
       "      <td>1.153846</td>\n",
       "      <td>23.847616</td>\n",
       "    </tr>\n",
       "  </tbody>\n",
       "</table>\n",
       "</div>"
      ],
      "text/plain": [
       "       farmers_block  crop_wet_weight  crop_dry_weight  box_length  \\\n",
       "count     192.000000       192.000000       192.000000  192.000000   \n",
       "mean        2.833333         9.145911       214.232901    8.114583   \n",
       "std         1.377962         7.934673      2886.334549    2.397074   \n",
       "min         1.000000         0.000000         0.000000    2.000000   \n",
       "25%         2.000000         3.783750         2.015000    8.000000   \n",
       "50%         3.000000         6.537500         3.432500    8.000000   \n",
       "75%         4.000000        12.302500         7.420000    8.000000   \n",
       "max         5.000000        40.070000     40000.000000   40.000000   \n",
       "\n",
       "        box_width  sum_insured_millions  benchmark_yield_tonnes  \\\n",
       "count  192.000000            192.000000              192.000000   \n",
       "mean     5.041667             18.223958                2.923073   \n",
       "std      1.143309             12.225064                0.780283   \n",
       "min      1.000000              3.000000                1.500000   \n",
       "25%      5.000000              7.000000                2.630000   \n",
       "50%      5.000000             17.000000                3.000000   \n",
       "75%      5.000000             23.000000                3.400000   \n",
       "max     20.000000             40.000000                3.840000   \n",
       "\n",
       "       yield_attained_mt/ha  yield_proportion_percentage  payout_scale  \\\n",
       "count            192.000000                 1.920000e+02    192.000000   \n",
       "mean               0.214233                 8.190957e+03      0.181523   \n",
       "std                2.886335                 1.097436e+05      0.345472   \n",
       "min                0.000000                 0.000000e+00      0.000000   \n",
       "25%                0.002015                 6.171875e+01      0.000000   \n",
       "50%                0.003432                 1.122794e+02      0.000000   \n",
       "75%                0.007420                 2.722656e+02      0.204327   \n",
       "max               40.000000                 1.520913e+06      1.153846   \n",
       "\n",
       "       payout_amount  \n",
       "count     192.000000  \n",
       "mean        2.015877  \n",
       "std         3.858601  \n",
       "min         0.000000  \n",
       "25%         0.000000  \n",
       "50%         0.000000  \n",
       "75%         2.522184  \n",
       "max        23.847616  "
      ]
     },
     "execution_count": 52,
     "metadata": {},
     "output_type": "execute_result"
    }
   ],
   "source": [
    "cleaned_payouts_calculated_data.describe()"
   ]
  },
  {
   "cell_type": "markdown",
   "id": "8178039f",
   "metadata": {},
   "source": [
    "## Claim payouts for each block"
   ]
  },
  {
   "cell_type": "code",
   "execution_count": 53,
   "id": "ace972ed",
   "metadata": {},
   "outputs": [
    {
     "data": {
      "text/plain": [
       "farmers_block\n",
       "1    152.828054\n",
       "2    128.642586\n",
       "3    101.146935\n",
       "4      4.430769\n",
       "5      0.000000\n",
       "Name: payout_amount, dtype: float64"
      ]
     },
     "execution_count": 53,
     "metadata": {},
     "output_type": "execute_result"
    }
   ],
   "source": [
    "cleaned_payouts_calculated_data.groupby('farmers_block').sum()['payout_amount']"
   ]
  },
  {
   "cell_type": "markdown",
   "id": "ac11d3c9",
   "metadata": {},
   "source": [
    "## Average dry yields per block visualization"
   ]
  },
  {
   "cell_type": "code",
   "execution_count": 54,
   "id": "c5f7cc06",
   "metadata": {},
   "outputs": [],
   "source": [
    "import matplotlib.pyplot as plt\n",
    "%matplotlib inline"
   ]
  },
  {
   "cell_type": "code",
   "execution_count": 56,
   "id": "e81929aa",
   "metadata": {},
   "outputs": [
    {
     "data": {
      "image/png": "[encoded data removed]",
      "text/plain": [
       "<Figure size 1224x432 with 1 Axes>"
      ]
     },
     "metadata": {
      "needs_background": "light"
     },
     "output_type": "display_data"
    }
   ],
   "source": [
    "plt.figure(figsize = (17,6))\n",
    "cleaned_payouts_calculated_data.groupby('farmers_block').mean()['crop_dry_weight'].plot.bar()\n",
    "plt.title(\"Average dry yields per block\",fontsize = 14)\n",
    "plt.xlabel(\"Blocks\",fontsize = 16);\n",
    "plt.ylabel(\"Average yields\",fontsize = 16);"
   ]
  }
 ],
 "metadata": {
  "kernelspec": {
   "display_name": "Python 3 (ipykernel)",
   "language": "python",
   "name": "python3"
  },
  "language_info": {
   "codemirror_mode": {
    "name": "ipython",
    "version": 3
   },
   "file_extension": ".py",
   "mimetype": "text/x-python",
   "name": "python",
   "nbconvert_exporter": "python",
   "pygments_lexer": "ipython3",
   "version": "3.9.12"
  }
 },
 "nbformat": 4,
 "nbformat_minor": 5
}
